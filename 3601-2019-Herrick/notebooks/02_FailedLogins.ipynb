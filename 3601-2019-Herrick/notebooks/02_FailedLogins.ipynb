{
 "cells": [
  {
   "cell_type": "markdown",
   "metadata": {},
   "source": [
    "### Exploratory Analysis to Find Failed Logins\n",
    "\n",
    "For this notebook, we are looking for excessive login attempts by individual users.\n",
    "\n",
    "This guides our later creation of comparison analytics for a production setting.\n",
    "\n",
    "__Damian Herrick__  \n",
    "__SAS Institute__  \n",
    "__[damian.herrick@sas.com](mailto:damian.herrick@sas.com)__  "
   ]
  },
  {
   "cell_type": "code",
   "execution_count": 1,
   "metadata": {},
   "outputs": [],
   "source": [
    "import warnings\n",
    "warnings.filterwarnings('ignore')\n",
    "\n",
    "import os\n",
    "import swat\n",
    "import matplotlib.pyplot as plt\n",
    "import numpy as np\n",
    "\n",
    "%matplotlib inline"
   ]
  },
  {
   "cell_type": "code",
   "execution_count": 2,
   "metadata": {},
   "outputs": [],
   "source": [
    "os.environ[\"CAS_CLIENT_SSL_CA_LIST\"]=\"/home/ds/cascert.pem\"\n",
    "\n",
    "conn = swat.CAS(\"<your-CAS-server-url>\", 5570)"
   ]
  },
  {
   "cell_type": "markdown",
   "metadata": {},
   "source": [
    "Set current CASLIB to the Windows Host Events library we created earlier, and load our data."
   ]
  },
  {
   "cell_type": "code",
   "execution_count": 3,
   "metadata": {},
   "outputs": [
    {
     "name": "stdout",
     "output_type": "stream",
     "text": [
      "NOTE: Cloud Analytic Services made the file wls_day_02_hr13.sashdat available as table WLS_DAY_02_HR13 in caslib CASUSER(daherr).\n"
     ]
    }
   ],
   "source": [
    "conn.setsessopt('WH')\n",
    "\n",
    "out = conn.loadtable('wls_day_02_hr13.sashdat', caslib='WH')"
   ]
  },
  {
   "cell_type": "markdown",
   "metadata": {},
   "source": [
    "We know from Windows documentation that a logged event with ID `4625` is a failed login - so we begin by trimming our dataset to have only failed logins."
   ]
  },
  {
   "cell_type": "code",
   "execution_count": 5,
   "metadata": {},
   "outputs": [
    {
     "name": "stderr",
     "output_type": "stream",
     "text": [
      "ERROR: The table WLS_DAY02_HR13_FAILED already exists in the session.\n",
      "ERROR: The action stopped due to errors.\n"
     ]
    },
    {
     "data": {
      "text/html": [
       "<div class=\"cas-output-area\"></div>\n",
       "<p class=\"cas-results-performance\"><small><span class=\"cas-elapsed\">elapsed 0.00285s</span> &#183; <span class=\"cas-user\">user 0.00279s</span> &#183; <span class=\"cas-memory\">mem 1.23MB</span></small></p>"
      ],
      "text/plain": [
       "+ Elapsed: 0.00285s, user: 0.00279s, mem: 1.23mb"
      ]
     },
     "execution_count": 5,
     "metadata": {},
     "output_type": "execute_result"
    }
   ],
   "source": [
    "clause = \"EventID = 4625\"\n",
    "where = clause.format(table=\"\", not_missing=\"Is Not Missing\")\n",
    "\n",
    "conn.partition(table={\"name\": \"wls_day_02_hr13\", \"where\":where}, \n",
    "               casout={\"name\": \"WLS_DAY02_HR13_FAILED\"})"
   ]
  },
  {
   "cell_type": "markdown",
   "metadata": {},
   "source": [
    "To get our dataset grouped by users and their counts, we'll use the `fedsql` actionset and create a table with a SQL query."
   ]
  },
  {
   "cell_type": "code",
   "execution_count": 6,
   "metadata": {},
   "outputs": [
    {
     "name": "stdout",
     "output_type": "stream",
     "text": [
      "NOTE: Added action set 'fedsql'.\n"
     ]
    },
    {
     "data": {
      "text/html": [
       "<div class=\"cas-results-key\"><b>&#167; actionset</b></div>\n",
       "<div class=\"cas-results-body\">\n",
       "<div>fedsql</div>\n",
       "</div>\n",
       "<div class=\"cas-output-area\"></div>\n",
       "<p class=\"cas-results-performance\"><small><span class=\"cas-elapsed\">elapsed 0.0032s</span> &#183; <span class=\"cas-user\">user 0.00162s</span> &#183; <span class=\"cas-sys\">sys 0.00152s</span> &#183; <span class=\"cas-memory\">mem 0.23MB</span></small></p>"
      ],
      "text/plain": [
       "[actionset]\n",
       "\n",
       " 'fedsql'\n",
       "\n",
       "+ Elapsed: 0.0032s, user: 0.00162s, sys: 0.00152s, mem: 0.23mb"
      ]
     },
     "execution_count": 6,
     "metadata": {},
     "output_type": "execute_result"
    }
   ],
   "source": [
    "conn.loadactionset(\"fedsql\")"
   ]
  },
  {
   "cell_type": "code",
   "execution_count": 7,
   "metadata": {},
   "outputs": [
    {
     "name": "stdout",
     "output_type": "stream",
     "text": [
      "NOTE: Table WLS_DAY02_HR13_FAILED_USERS was created in caslib CASUSER(daherr) with 142 rows returned.\n"
     ]
    },
    {
     "data": {
      "text/html": [
       "<div class=\"cas-output-area\"></div>\n",
       "<p class=\"cas-results-performance\"><small><span class=\"cas-elapsed\">elapsed 0.824s</span> &#183; <span class=\"cas-user\">user 1.03s</span> &#183; <span class=\"cas-sys\">sys 2.17s</span> &#183; <span class=\"cas-memory\">mem 384MB</span></small></p>"
      ],
      "text/plain": [
       "+ Elapsed: 0.824s, user: 1.03s, sys: 2.17s, mem: 384mb"
      ]
     },
     "execution_count": 7,
     "metadata": {},
     "output_type": "execute_result"
    }
   ],
   "source": [
    "query = f\"CREATE TABLE WLS_DAY02_HR13_FAILED_USERS AS SELECT UserName, count(UserName) as Failures \\\n",
    "          FROM WLS_DAY02_HR13_FAILED GROUP BY UserName\"\n",
    "\n",
    "conn.fedsql.execdirect(query)"
   ]
  },
  {
   "cell_type": "markdown",
   "metadata": {},
   "source": [
    "Now we'll create a local `CASTable` object and use that to examine what the failed users count looks like.\n",
    "\n",
    "Basically - this is a sanity check for our potential analytic. We're checking to see if there are some users who are failing a lot more than others."
   ]
  },
  {
   "cell_type": "code",
   "execution_count": 8,
   "metadata": {},
   "outputs": [],
   "source": [
    "failedUsers = conn.CASTable('WLS_DAY02_HR13_FAILED_USERS').sort('Failures', ascending=False)"
   ]
  },
  {
   "cell_type": "code",
   "execution_count": 9,
   "metadata": {},
   "outputs": [
    {
     "data": {
      "text/html": [
       "<div>\n",
       "<style scoped>\n",
       "    .dataframe tbody tr th:only-of-type {\n",
       "        vertical-align: middle;\n",
       "    }\n",
       "\n",
       "    .dataframe tbody tr th {\n",
       "        vertical-align: top;\n",
       "    }\n",
       "\n",
       "    .dataframe thead th {\n",
       "        text-align: right;\n",
       "    }\n",
       "</style>\n",
       "<table border=\"1\" class=\"dataframe\"><caption>Selected Rows from Table WLS_DAY02_HR13_FAILED_USERS</caption>\n",
       "  <thead>\n",
       "    <tr style=\"text-align: right;\">\n",
       "      <th title=\"\"></th>\n",
       "      <th title=\"UserName\">UserName</th>\n",
       "      <th title=\"FAILURES\">FAILURES</th>\n",
       "    </tr>\n",
       "  </thead>\n",
       "  <tbody>\n",
       "    <tr>\n",
       "      <th>0</th>\n",
       "      <td>Comp065845$</td>\n",
       "      <td>636</td>\n",
       "    </tr>\n",
       "    <tr>\n",
       "      <th>1</th>\n",
       "      <td>Administrator</td>\n",
       "      <td>207</td>\n",
       "    </tr>\n",
       "    <tr>\n",
       "      <th>2</th>\n",
       "      <td>AppService</td>\n",
       "      <td>163</td>\n",
       "    </tr>\n",
       "    <tr>\n",
       "      <th>3</th>\n",
       "      <td>User031784</td>\n",
       "      <td>79</td>\n",
       "    </tr>\n",
       "    <tr>\n",
       "      <th>4</th>\n",
       "      <td>User006226</td>\n",
       "      <td>36</td>\n",
       "    </tr>\n",
       "    <tr>\n",
       "      <th>5</th>\n",
       "      <td>Scanner</td>\n",
       "      <td>33</td>\n",
       "    </tr>\n",
       "    <tr>\n",
       "      <th>6</th>\n",
       "      <td>User759472</td>\n",
       "      <td>19</td>\n",
       "    </tr>\n",
       "    <tr>\n",
       "      <th>7</th>\n",
       "      <td>User986685</td>\n",
       "      <td>18</td>\n",
       "    </tr>\n",
       "    <tr>\n",
       "      <th>8</th>\n",
       "      <td>User718489</td>\n",
       "      <td>17</td>\n",
       "    </tr>\n",
       "    <tr>\n",
       "      <th>9</th>\n",
       "      <td>User096590</td>\n",
       "      <td>15</td>\n",
       "    </tr>\n",
       "  </tbody>\n",
       "</table>\n",
       "</div>"
      ],
      "text/plain": [
       "Selected Rows from Table WLS_DAY02_HR13_FAILED_USERS\n",
       "\n",
       "        UserName  FAILURES\n",
       "0    Comp065845$       636\n",
       "1  Administrator       207\n",
       "2     AppService       163\n",
       "3     User031784        79\n",
       "4     User006226        36\n",
       "5        Scanner        33\n",
       "6     User759472        19\n",
       "7     User986685        18\n",
       "8     User718489        17\n",
       "9     User096590        15"
      ]
     },
     "execution_count": 9,
     "metadata": {},
     "output_type": "execute_result"
    }
   ],
   "source": [
    "failedUsers.head(10)"
   ]
  },
  {
   "cell_type": "markdown",
   "metadata": {},
   "source": [
    "Based on the top ten failures, we can see that a few accounts fail a LOT more than the rest. Even more interesting, one of the failures is the `Administrator` account. That's an account we hope would not fail that often."
   ]
  },
  {
   "cell_type": "markdown",
   "metadata": {},
   "source": [
    "Last thing we'll do here is just get a sense of the range of our data.\n",
    "\n",
    "* How many users are there? (the N)\n",
    "* What is the range of the failure counts? (1 - 636)\n",
    "* etc...."
   ]
  },
  {
   "cell_type": "code",
   "execution_count": 11,
   "metadata": {},
   "outputs": [
    {
     "data": {
      "text/html": [
       "<div>\n",
       "<style scoped>\n",
       "    .dataframe tbody tr th:only-of-type {\n",
       "        vertical-align: middle;\n",
       "    }\n",
       "\n",
       "    .dataframe tbody tr th {\n",
       "        vertical-align: top;\n",
       "    }\n",
       "\n",
       "    .dataframe thead th {\n",
       "        text-align: right;\n",
       "    }\n",
       "</style>\n",
       "<table border=\"1\" class=\"dataframe\"><caption>Descriptive Statistics for WLS_DAY02_HR13_FAILED_USERS</caption>\n",
       "  <thead>\n",
       "    <tr style=\"text-align: right;\">\n",
       "      <th title=\"\"></th>\n",
       "      <th title=\"0\">0</th>\n",
       "    </tr>\n",
       "  </thead>\n",
       "  <tbody>\n",
       "    <tr>\n",
       "      <th>Column</th>\n",
       "      <td>FAILURES</td>\n",
       "    </tr>\n",
       "    <tr>\n",
       "      <th>Min</th>\n",
       "      <td>1</td>\n",
       "    </tr>\n",
       "    <tr>\n",
       "      <th>Max</th>\n",
       "      <td>636</td>\n",
       "    </tr>\n",
       "    <tr>\n",
       "      <th>N</th>\n",
       "      <td>142</td>\n",
       "    </tr>\n",
       "    <tr>\n",
       "      <th>NMiss</th>\n",
       "      <td>0</td>\n",
       "    </tr>\n",
       "    <tr>\n",
       "      <th>Mean</th>\n",
       "      <td>10.6127</td>\n",
       "    </tr>\n",
       "    <tr>\n",
       "      <th>Sum</th>\n",
       "      <td>1507</td>\n",
       "    </tr>\n",
       "    <tr>\n",
       "      <th>Std</th>\n",
       "      <td>57.6967</td>\n",
       "    </tr>\n",
       "    <tr>\n",
       "      <th>StdErr</th>\n",
       "      <td>4.8418</td>\n",
       "    </tr>\n",
       "    <tr>\n",
       "      <th>Var</th>\n",
       "      <td>3328.91</td>\n",
       "    </tr>\n",
       "    <tr>\n",
       "      <th>USS</th>\n",
       "      <td>485369</td>\n",
       "    </tr>\n",
       "    <tr>\n",
       "      <th>CSS</th>\n",
       "      <td>469376</td>\n",
       "    </tr>\n",
       "    <tr>\n",
       "      <th>CV</th>\n",
       "      <td>543.658</td>\n",
       "    </tr>\n",
       "    <tr>\n",
       "      <th>TValue</th>\n",
       "      <td>2.19189</td>\n",
       "    </tr>\n",
       "    <tr>\n",
       "      <th>ProbT</th>\n",
       "      <td>0.0300285</td>\n",
       "    </tr>\n",
       "    <tr>\n",
       "      <th>Skewness</th>\n",
       "      <td>9.58648</td>\n",
       "    </tr>\n",
       "    <tr>\n",
       "      <th>Kurtosis</th>\n",
       "      <td>100.458</td>\n",
       "    </tr>\n",
       "  </tbody>\n",
       "</table>\n",
       "</div>"
      ],
      "text/plain": [
       "Descriptive Statistics for WLS_DAY02_HR13_FAILED_USERS\n",
       "\n",
       "                  0\n",
       "Column     FAILURES\n",
       "Min               1\n",
       "Max             636\n",
       "N               142\n",
       "NMiss             0\n",
       "Mean        10.6127\n",
       "Sum            1507\n",
       "Std         57.6967\n",
       "StdErr       4.8418\n",
       "Var         3328.91\n",
       "USS          485369\n",
       "CSS          469376\n",
       "CV          543.658\n",
       "TValue      2.19189\n",
       "ProbT     0.0300285\n",
       "Skewness    9.58648\n",
       "Kurtosis    100.458"
      ]
     },
     "execution_count": 11,
     "metadata": {},
     "output_type": "execute_result"
    }
   ],
   "source": [
    "failedUsers.FAILURES.summary()['Summary'].transpose()"
   ]
  },
  {
   "cell_type": "markdown",
   "metadata": {},
   "source": [
    "And, lastly, let's plot this so we have a better visual sense of how this works."
   ]
  },
  {
   "cell_type": "code",
   "execution_count": 12,
   "metadata": {},
   "outputs": [
    {
     "data": {
      "image/png": "[encoded data removed]",
      "text/plain": [
       "<Figure size 1440x360 with 1 Axes>"
      ]
     },
     "metadata": {
      "needs_background": "light"
     },
     "output_type": "display_data"
    }
   ],
   "source": [
    "y_pos = np.arange(20)\n",
    "\n",
    "plt.figure(figsize=(20,5))\n",
    "plt.bar(y_pos, failedUsers.FAILURES.values[:20], align='center', alpha=0.5)\n",
    "plt.xticks(y_pos, failedUsers.UserName.values[:20], rotation=45)\n",
    "plt.ylabel('Failed Login Attempts')\n",
    "plt.title('Top 20 Login Failures By Username')\n",
    "plt.savefig('loginFailures.png', bbox_inches='tight')\n",
    "\n",
    "plt.show()"
   ]
  },
  {
   "cell_type": "code",
   "execution_count": 13,
   "metadata": {},
   "outputs": [],
   "source": [
    "conn.close()"
   ]
  }
 ],
 "metadata": {
  "kernelspec": {
   "display_name": "Python 3",
   "language": "python",
   "name": "python3"
  },
  "language_info": {
   "codemirror_mode": {
    "name": "ipython",
    "version": 3
   },
   "file_extension": ".py",
   "mimetype": "text/x-python",
   "name": "python",
   "nbconvert_exporter": "python",
   "pygments_lexer": "ipython3",
   "version": "3.7.2"
  }
 },
 "nbformat": 4,
 "nbformat_minor": 2
}
