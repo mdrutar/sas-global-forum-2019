{
 "cells": [
  {
   "cell_type": "markdown",
   "metadata": {},
   "source": [
    "### Mapping Network Topology with Netflow Data in CAS (IN-PROGRESS)\n",
    "\n",
    "This notebook demonstrates how to generate network graphs of the network as defined in netflow data.\n",
    "\n",
    "__Damian Herrick__  \n",
    "__SAS Institute__  \n",
    "__[damian.herrick@sas.com](mailto:damian.herrick@sas.com)__  "
   ]
  },
  {
   "cell_type": "code",
   "execution_count": 1,
   "metadata": {},
   "outputs": [],
   "source": [
    "import os\n",
    "import pandas as pd\n",
    "import swat\n",
    "from swat.cas import datamsghandlers as dmh"
   ]
  },
  {
   "cell_type": "code",
   "execution_count": 2,
   "metadata": {},
   "outputs": [],
   "source": [
    "os.environ[\"CAS_CLIENT_SSL_CA_LIST\"]=\"/home/ds/cascert.pem\"\n",
    "\n",
    "conn = swat.CAS(\"<your-CAS-server-url>\", 5570)"
   ]
  },
  {
   "cell_type": "code",
   "execution_count": 3,
   "metadata": {},
   "outputs": [
    {
     "name": "stdout",
     "output_type": "stream",
     "text": [
      "NOTE: Cloud Analytic Services removed the caslib 'LANL_NF'.\n",
      "NOTE: 'LANL_NF' is now the active caslib.\n",
      "NOTE: Cloud Analytic Services added the caslib 'LANL_NF'.\n",
      "NOTE: 'LANL_NF' is now the active caslib.\n"
     ]
    },
    {
     "data": {
      "text/html": [
       "<div class=\"cas-output-area\"></div>\n",
       "<p class=\"cas-results-performance\"><small><span class=\"cas-elapsed\">elapsed 0.000474s</span> &#183; <span class=\"cas-sys\">sys 0.000435s</span> &#183; <span class=\"cas-memory\">mem 0.225MB</span></small></p>"
      ],
      "text/plain": [
       "+ Elapsed: 0.000474s, sys: 0.000435s, mem: 0.225mb"
      ]
     },
     "execution_count": 3,
     "metadata": {},
     "output_type": "execute_result"
    }
   ],
   "source": [
    "conn.dropcaslib(caslib='LANL_NF', quiet=True)\n",
    "\n",
    "conn.addcaslib(name='LANL_NF', path='/home/datasets/LANL/NF/', \n",
    "               description=\"LANL Netflow\",\n",
    "               session=False)\n",
    "conn.setsessopt(caslib='LANL_NF')"
   ]
  },
  {
   "cell_type": "code",
   "execution_count": null,
   "metadata": {},
   "outputs": [],
   "source": [
    "pairsCode = F'''CREATE TABLE nf_day_02_hr13_pairs AS SELECT SrcDevice, DstDevice, COUNT(*) FROM nf_day_02_hr13 GROUP BY SrcDevice, DstDevice '''\n",
    "print(pairsCode)"
   ]
  },
  {
   "cell_type": "code",
   "execution_count": null,
   "metadata": {},
   "outputs": [],
   "source": [
    "if conn.table.tableexists(name='nf_day_02_hr13_pairs'):\n",
    "    conn.table.droptable(name='nf_day_02_hr13_pairs')"
   ]
  },
  {
   "cell_type": "code",
   "execution_count": null,
   "metadata": {},
   "outputs": [],
   "source": [
    "conn.loadactionset(\"fedsql\")"
   ]
  },
  {
   "cell_type": "code",
   "execution_count": null,
   "metadata": {},
   "outputs": [],
   "source": [
    "conn.fedsql.execdirect(pairsCode)"
   ]
  },
  {
   "cell_type": "code",
   "execution_count": null,
   "metadata": {},
   "outputs": [],
   "source": [
    "conn.save(table='nf_day_02_hr13_pairs', name='nf_day_02_hr13_pairs.sashdat', caslib='LANL_NF')"
   ]
  },
  {
   "cell_type": "code",
   "execution_count": 4,
   "metadata": {},
   "outputs": [
    {
     "name": "stdout",
     "output_type": "stream",
     "text": [
      "NOTE: Added action set 'hypergroup'.\n",
      "NOTE: Cloud Analytic Services made the file nf_day_02_hr13_pairs.sashdat available as table NF_DAY_02_HR13_PAIRS in caslib LANL_NF.\n"
     ]
    },
    {
     "data": {
      "text/html": [
       "<div class=\"cas-results-key\"><b>&#167; caslib</b></div>\n",
       "<div class=\"cas-results-body\">\n",
       "<div>LANL_NF</div>\n",
       "</div>\n",
       "<div class=\"cas-results-key\"><hr/><b>&#167; tableName</b></div>\n",
       "<div class=\"cas-results-body\">\n",
       "<div>NF_DAY_02_HR13_PAIRS</div>\n",
       "</div>\n",
       "<div class=\"cas-results-key\"><hr/><b>&#167; casTable</b></div>\n",
       "<div class=\"cas-results-body\">\n",
       "<div>CASTable('NF_DAY_02_HR13_PAIRS', caslib='LANL_NF')</div>\n",
       "</div>\n",
       "<div class=\"cas-output-area\"></div>\n",
       "<p class=\"cas-results-performance\"><small><span class=\"cas-elapsed\">elapsed 0.00189s</span> &#183; <span class=\"cas-sys\">sys 0.00175s</span> &#183; <span class=\"cas-memory\">mem 0.683MB</span></small></p>"
      ],
      "text/plain": [
       "[caslib]\n",
       "\n",
       " 'LANL_NF'\n",
       "\n",
       "[tableName]\n",
       "\n",
       " 'NF_DAY_02_HR13_PAIRS'\n",
       "\n",
       "[casTable]\n",
       "\n",
       " CASTable('NF_DAY_02_HR13_PAIRS', caslib='LANL_NF')\n",
       "\n",
       "+ Elapsed: 0.00189s, sys: 0.00175s, mem: 0.683mb"
      ]
     },
     "execution_count": 4,
     "metadata": {},
     "output_type": "execute_result"
    }
   ],
   "source": [
    "conn.loadactionset('hypergroup')\n",
    "\n",
    "conn.loadtable('nf_day_02_hr13_pairs.sashdat', caslib='LANL_NF')"
   ]
  },
  {
   "cell_type": "code",
   "execution_count": 5,
   "metadata": {},
   "outputs": [
    {
     "data": {
      "text/html": [
       "<div class=\"cas-results-key\"><b>&#167; OutputCasTables</b></div>\n",
       "<div class=\"cas-results-body\">\n",
       "<div>\n",
       "<style scoped>\n",
       "    .dataframe tbody tr th:only-of-type {\n",
       "        vertical-align: middle;\n",
       "    }\n",
       "\n",
       "    .dataframe tbody tr th {\n",
       "        vertical-align: top;\n",
       "    }\n",
       "\n",
       "    .dataframe thead th {\n",
       "        text-align: right;\n",
       "    }\n",
       "</style>\n",
       "<table border=\"1\" class=\"dataframe\">\n",
       "  <thead>\n",
       "    <tr style=\"text-align: right;\">\n",
       "      <th title=\"\"></th>\n",
       "      <th title=\"CAS Library\">casLib</th>\n",
       "      <th title=\"Name\">Name</th>\n",
       "      <th title=\"Number of Rows\">Rows</th>\n",
       "      <th title=\"Number of Columns\">Columns</th>\n",
       "      <th title=\"Table\">casTable</th>\n",
       "    </tr>\n",
       "  </thead>\n",
       "  <tbody>\n",
       "    <tr>\n",
       "      <th>0</th>\n",
       "      <td>LANL_NF</td>\n",
       "      <td>edges</td>\n",
       "      <td>100063</td>\n",
       "      <td>18</td>\n",
       "      <td>CASTable('edges', caslib='LANL_NF')</td>\n",
       "    </tr>\n",
       "    <tr>\n",
       "      <th>1</th>\n",
       "      <td>LANL_NF</td>\n",
       "      <td>edges</td>\n",
       "      <td>19537</td>\n",
       "      <td>9</td>\n",
       "      <td>CASTable('edges', caslib='LANL_NF')</td>\n",
       "    </tr>\n",
       "  </tbody>\n",
       "</table>\n",
       "</div>\n",
       "</div>\n",
       "<div class=\"cas-output-area\"></div>\n",
       "<p class=\"cas-results-performance\"><small><span class=\"cas-elapsed\">elapsed 332s</span> &#183; <span class=\"cas-user\">user 529s</span> &#183; <span class=\"cas-sys\">sys 13s</span> &#183; <span class=\"cas-memory\">mem 810MB</span></small></p>"
      ],
      "text/plain": [
       "[OutputCasTables]\n",
       "\n",
       "     casLib   Name    Rows  Columns                             casTable\n",
       " 0  LANL_NF  edges  100063       18  CASTable('edges', caslib='LANL_NF')\n",
       " 1  LANL_NF  edges   19537        9  CASTable('edges', caslib='LANL_NF')\n",
       "\n",
       "+ Elapsed: 332s, user: 529s, sys: 13s, mem: 810mb"
      ]
     },
     "execution_count": 5,
     "metadata": {},
     "output_type": "execute_result"
    }
   ],
   "source": [
    "conn.hyperGroup.hyperGroup(\n",
    "    createOut = \"NEVER\", # this suppresses the creation of a table that’s usually produced, but it’s not needed here\n",
    "    allGraphs = True, # process all graphs even if disconnected\n",
    "    inputs    = [\"SrcDevice\", \"DstDevice\"], # the source and target column indicating an edge\n",
    "    table     = 'nf_day_02_hr13_pairs', # the input data set\n",
    "    edges     = {'name':'edges','replace':True}, # result table containing edge attributes\n",
    "    vertices  = {'name':'nodes','replace':True}  # result table containing vertice attributes\n",
    ")"
   ]
  },
  {
   "cell_type": "code",
   "execution_count": null,
   "metadata": {},
   "outputs": [],
   "source": []
  }
 ],
 "metadata": {
  "kernelspec": {
   "display_name": "Python 3",
   "language": "python",
   "name": "python3"
  },
  "language_info": {
   "codemirror_mode": {
    "name": "ipython",
    "version": 3
   },
   "file_extension": ".py",
   "mimetype": "text/x-python",
   "name": "python",
   "nbconvert_exporter": "python",
   "pygments_lexer": "ipython3",
   "version": "3.7.2"
  }
 },
 "nbformat": 4,
 "nbformat_minor": 2
}
