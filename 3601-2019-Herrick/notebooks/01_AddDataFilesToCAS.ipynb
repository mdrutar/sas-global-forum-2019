{
 "cells": [
  {
   "cell_type": "markdown",
   "metadata": {},
   "source": [
    "### Add our Data Files to the CAS Server\n",
    "\n",
    "For this simple notebook, we'll create our caslibs and load the hourly CSVs into CAS, then write the data into a SASHDAT in their library.\n",
    "\n",
    "Taking this step now saves us the load times later when we want to do our processing and analytics.\n",
    "\n",
    "We do this twice here - once for windows host files, and once for netflow.\n",
    "\n",
    "*Note that the Netflow file is larger than Github allows us to load; if you would like to use this, please contact `damian.herrick@sas.com` for instructions on how to generate this file.*\n",
    "\n",
    "__Damian Herrick__  \n",
    "__SAS Institute__  \n",
    "__[damian.herrick@sas.com](mailto:damian.herrick@sas.com)__  "
   ]
  },
  {
   "cell_type": "code",
   "execution_count": 1,
   "metadata": {},
   "outputs": [],
   "source": [
    "import os\n",
    "import pandas as pd\n",
    "import swat\n",
    "from swat.cas import datamsghandlers as dmh"
   ]
  },
  {
   "cell_type": "markdown",
   "metadata": {},
   "source": [
    "Standard connection details."
   ]
  },
  {
   "cell_type": "code",
   "execution_count": 2,
   "metadata": {},
   "outputs": [],
   "source": [
    "os.environ[\"CAS_CLIENT_SSL_CA_LIST\"]=\"/home/ds/cascert.pem\"\n",
    "\n",
    "conn = swat.CAS(\"<your-CAS-server-url>\", 5570)"
   ]
  },
  {
   "cell_type": "markdown",
   "metadata": {},
   "source": [
    "Create the `WH` caslib, for windows host events.\n",
    "\n",
    "If for some reason we've already created this caslib, we just drop it first and recreate from there."
   ]
  },
  {
   "cell_type": "code",
   "execution_count": 3,
   "metadata": {},
   "outputs": [
    {
     "name": "stdout",
     "output_type": "stream",
     "text": [
      "NOTE: Cloud Analytic Services removed the caslib 'LANL_NF'.\n",
      "NOTE: Caslib WH already exists.\n",
      "NOTE: 'WH' is now the active caslib.\n"
     ]
    },
    {
     "name": "stderr",
     "output_type": "stream",
     "text": [
      "ERROR: The action stopped due to errors.\n"
     ]
    },
    {
     "data": {
      "text/html": [
       "<div class=\"cas-output-area\"></div>\n",
       "<p class=\"cas-results-performance\"><small><span class=\"cas-elapsed\">elapsed 0.000567s</span> &#183; <span class=\"cas-user\">user 0.000186s</span> &#183; <span class=\"cas-sys\">sys 0.000335s</span> &#183; <span class=\"cas-memory\">mem 0.225MB</span></small></p>"
      ],
      "text/plain": [
       "+ Elapsed: 0.000567s, user: 0.000186s, sys: 0.000335s, mem: 0.225mb"
      ]
     },
     "execution_count": 3,
     "metadata": {},
     "output_type": "execute_result"
    }
   ],
   "source": [
    "conn.dropcaslib(caslib='LANL_NF', quiet=True)\n",
    "\n",
    "conn.addcaslib(name='WH', path='/home/datasets/LANL/WH/', \n",
    "               description=\"Windows Host Events\",\n",
    "               session=False)\n",
    "conn.setsessopt(caslib='WH')"
   ]
  },
  {
   "cell_type": "markdown",
   "metadata": {},
   "source": [
    "Now load the CSV file and add it to CAS.\n",
    "\n",
    "Note:\n",
    "* You are loading the CSV into the container's local memory.\n",
    "* We want the data available to CAS on the CAS server.\n",
    "\n",
    "By adding the table this way, we'll make the data available on the CAS server."
   ]
  },
  {
   "cell_type": "code",
   "execution_count": 4,
   "metadata": {},
   "outputs": [],
   "source": [
    "dfHost = pd.read_csv(\"/home/ds/datasets/WH/wls-day_02_hr13.csv\")\n",
    "dmhHost = dmh.PandasDataFrame(dfHost)\n",
    "out = conn.addtable(table='wls_day_02_hr13', caslib='WH', **dmhHost.args.addtable)"
   ]
  },
  {
   "cell_type": "markdown",
   "metadata": {},
   "source": [
    "Now we've loaded it, we'll go ahead and save it to disk."
   ]
  },
  {
   "cell_type": "code",
   "execution_count": 5,
   "metadata": {},
   "outputs": [
    {
     "name": "stderr",
     "output_type": "stream",
     "text": [
      "ERROR: Connection failed. Server returned: Session reconnect failed: Could not find the specified session.\n"
     ]
    },
    {
     "ename": "SWATError",
     "evalue": "An error occurred while sending request.",
     "output_type": "error",
     "traceback": [
      "\u001b[0;31m---------------------------------------------------------------------------\u001b[0m",
      "\u001b[0;31mSWATError\u001b[0m                                 Traceback (most recent call last)",
      "\u001b[0;32m<ipython-input-5-447b77b3075b>\u001b[0m in \u001b[0;36m<module>\u001b[0;34m\u001b[0m\n\u001b[0;32m----> 1\u001b[0;31m \u001b[0mconn\u001b[0m\u001b[0;34m.\u001b[0m\u001b[0msave\u001b[0m\u001b[0;34m(\u001b[0m\u001b[0mtable\u001b[0m\u001b[0;34m=\u001b[0m\u001b[0;34m'wls_day_02_hr13'\u001b[0m\u001b[0;34m,\u001b[0m \u001b[0mname\u001b[0m\u001b[0;34m=\u001b[0m\u001b[0;34m'wls_day_02_hr13.sashdat'\u001b[0m\u001b[0;34m,\u001b[0m \u001b[0mcaslib\u001b[0m\u001b[0;34m=\u001b[0m\u001b[0;34m'WH'\u001b[0m\u001b[0;34m)\u001b[0m\u001b[0;34m\u001b[0m\u001b[0;34m\u001b[0m\u001b[0m\n\u001b[0m",
      "\u001b[0;32m/usr/local/lib/python3.7/site-packages/swat/cas/actions.py\u001b[0m in \u001b[0;36m__call__\u001b[0;34m(_self_, table, name, copies, replace, compress, caslib, datasourceoptions, permission, exportoptions, saveattrs, **kwargs)\u001b[0m\n",
      "\u001b[0;32m/usr/local/lib/python3.7/site-packages/swat/cas/actions.py\u001b[0m in \u001b[0;36m__call__\u001b[0;34m(self, **kwargs)\u001b[0m\n\u001b[1;32m    838\u001b[0m         return type(self).get_connection().retrieve(type(self).__name__.lower(),\n\u001b[1;32m    839\u001b[0m                                                     **mergedefined(self.to_params(),\n\u001b[0;32m--> 840\u001b[0;31m                                                     kwargs))\n\u001b[0m\u001b[1;32m    841\u001b[0m \u001b[0;34m\u001b[0m\u001b[0m\n\u001b[1;32m    842\u001b[0m     \u001b[0mretrieve\u001b[0m \u001b[0;34m=\u001b[0m \u001b[0m__call__\u001b[0m\u001b[0;34m\u001b[0m\u001b[0;34m\u001b[0m\u001b[0m\n",
      "\u001b[0;32m/usr/local/lib/python3.7/site-packages/swat/cas/connection.py\u001b[0m in \u001b[0;36mretrieve\u001b[0;34m(self, _name_, **kwargs)\u001b[0m\n\u001b[1;32m   1689\u001b[0m         \u001b[0;32mtry\u001b[0m\u001b[0;34m:\u001b[0m\u001b[0;34m\u001b[0m\u001b[0;34m\u001b[0m\u001b[0m\n\u001b[1;32m   1690\u001b[0m             \u001b[0;31m# Call the action and compile the results\u001b[0m\u001b[0;34m\u001b[0m\u001b[0;34m\u001b[0m\u001b[0;34m\u001b[0m\u001b[0m\n\u001b[0;32m-> 1691\u001b[0;31m             \u001b[0msignature\u001b[0m \u001b[0;34m=\u001b[0m \u001b[0mself\u001b[0m\u001b[0;34m.\u001b[0m\u001b[0m_invoke_with_signature\u001b[0m\u001b[0;34m(\u001b[0m\u001b[0ma2n\u001b[0m\u001b[0;34m(\u001b[0m\u001b[0m_name_\u001b[0m\u001b[0;34m)\u001b[0m\u001b[0;34m,\u001b[0m \u001b[0;34m**\u001b[0m\u001b[0mkwargs\u001b[0m\u001b[0;34m)\u001b[0m\u001b[0;34m\u001b[0m\u001b[0;34m\u001b[0m\u001b[0m\n\u001b[0m\u001b[1;32m   1692\u001b[0m             results = self._get_results(getnext(self, datamsghandler=datamsghandler),\n\u001b[1;32m   1693\u001b[0m                                         responsefunc=responsefunc, resultfunc=resultfunc)\n",
      "\u001b[0;32m/usr/local/lib/python3.7/site-packages/swat/cas/connection.py\u001b[0m in \u001b[0;36m_invoke_with_signature\u001b[0;34m(self, _name_, **kwargs)\u001b[0m\n\u001b[1;32m   1167\u001b[0m             \u001b[0mself\u001b[0m\u001b[0;34m.\u001b[0m\u001b[0m_merge_param_args\u001b[0m\u001b[0;34m(\u001b[0m\u001b[0msignature\u001b[0m\u001b[0;34m.\u001b[0m\u001b[0mget\u001b[0m\u001b[0;34m(\u001b[0m\u001b[0;34m'params'\u001b[0m\u001b[0;34m,\u001b[0m \u001b[0;34m{\u001b[0m\u001b[0;34m}\u001b[0m\u001b[0;34m)\u001b[0m\u001b[0;34m,\u001b[0m \u001b[0mkwargs\u001b[0m\u001b[0;34m,\u001b[0m \u001b[0maction\u001b[0m\u001b[0;34m=\u001b[0m\u001b[0m_name_\u001b[0m\u001b[0;34m)\u001b[0m\u001b[0;34m\u001b[0m\u001b[0;34m\u001b[0m\u001b[0m\n\u001b[1;32m   1168\u001b[0m \u001b[0;34m\u001b[0m\u001b[0m\n\u001b[0;32m-> 1169\u001b[0;31m         \u001b[0mself\u001b[0m\u001b[0;34m.\u001b[0m\u001b[0m_invoke_without_signature\u001b[0m\u001b[0;34m(\u001b[0m\u001b[0m_name_\u001b[0m\u001b[0;34m,\u001b[0m \u001b[0;34m**\u001b[0m\u001b[0mkwargs\u001b[0m\u001b[0;34m)\u001b[0m\u001b[0;34m\u001b[0m\u001b[0;34m\u001b[0m\u001b[0m\n\u001b[0m\u001b[1;32m   1170\u001b[0m \u001b[0;34m\u001b[0m\u001b[0m\n\u001b[1;32m   1171\u001b[0m         \u001b[0;32mreturn\u001b[0m \u001b[0msignature\u001b[0m\u001b[0;34m\u001b[0m\u001b[0;34m\u001b[0m\u001b[0m\n",
      "\u001b[0;32m/usr/local/lib/python3.7/site-packages/swat/cas/connection.py\u001b[0m in \u001b[0;36m_invoke_without_signature\u001b[0;34m(self, _name_, **kwargs)\u001b[0m\n\u001b[1;32m    947\u001b[0m                                                   py2cas(self._soptions,\n\u001b[1;32m    948\u001b[0m                                                          self._sw_error, **kwargs)),\n\u001b[0;32m--> 949\u001b[0;31m                        self._sw_connection)\n\u001b[0m\u001b[1;32m    950\u001b[0m         \u001b[0;32mreturn\u001b[0m \u001b[0mself\u001b[0m\u001b[0;34m\u001b[0m\u001b[0;34m\u001b[0m\u001b[0m\n\u001b[1;32m    951\u001b[0m \u001b[0;34m\u001b[0m\u001b[0m\n",
      "\u001b[0;32m/usr/local/lib/python3.7/site-packages/swat/clib.py\u001b[0m in \u001b[0;36merrorcheck\u001b[0;34m(expr, obj)\u001b[0m\n\u001b[1;32m    162\u001b[0m         \u001b[0mmsg\u001b[0m \u001b[0;34m=\u001b[0m \u001b[0mobj\u001b[0m\u001b[0;34m.\u001b[0m\u001b[0mgetLastErrorMessage\u001b[0m\u001b[0;34m(\u001b[0m\u001b[0;34m)\u001b[0m\u001b[0;34m\u001b[0m\u001b[0;34m\u001b[0m\u001b[0m\n\u001b[1;32m    163\u001b[0m         \u001b[0;32mif\u001b[0m \u001b[0mmsg\u001b[0m\u001b[0;34m:\u001b[0m\u001b[0;34m\u001b[0m\u001b[0;34m\u001b[0m\u001b[0m\n\u001b[0;32m--> 164\u001b[0;31m             \u001b[0;32mraise\u001b[0m \u001b[0mSWATError\u001b[0m\u001b[0;34m(\u001b[0m\u001b[0ma2u\u001b[0m\u001b[0;34m(\u001b[0m\u001b[0mmsg\u001b[0m\u001b[0;34m,\u001b[0m \u001b[0;34m'utf-8'\u001b[0m\u001b[0;34m)\u001b[0m\u001b[0;34m)\u001b[0m\u001b[0;34m\u001b[0m\u001b[0;34m\u001b[0m\u001b[0m\n\u001b[0m\u001b[1;32m    165\u001b[0m     \u001b[0;32mreturn\u001b[0m \u001b[0mexpr\u001b[0m\u001b[0;34m\u001b[0m\u001b[0;34m\u001b[0m\u001b[0m\n",
      "\u001b[0;31mSWATError\u001b[0m: An error occurred while sending request."
     ]
    }
   ],
   "source": [
    "conn.save(table='wls_day_02_hr13', name='wls_day_02_hr13.sashdat', caslib='WH')"
   ]
  },
  {
   "cell_type": "markdown",
   "metadata": {},
   "source": [
    "Repeat the same steps for the raw Netflow data."
   ]
  },
  {
   "cell_type": "code",
   "execution_count": null,
   "metadata": {},
   "outputs": [],
   "source": [
    "conn.dropcaslib(caslib='LANL_NF', quiet=True)\n",
    "\n",
    "conn.addcaslib(name='LANL_NF', path='/home/datasets/LANL/NF/', \n",
    "               description=\"LANL Netflow\",\n",
    "               session=False)\n",
    "conn.setsessopt(caslib='LANL_NF')"
   ]
  },
  {
   "cell_type": "code",
   "execution_count": null,
   "metadata": {},
   "outputs": [],
   "source": [
    "dfNetflow = pd.read_csv(\"/home/ds/datasets/NF/netflow_day-02_hr13.csv\")\n",
    "dmhNetflow = dmh.PandasDataFrame(dfNetflow)\n",
    "out1 = conn.addtable(table='nf_day_02_hr13', caslib='LANL_NF', **dmhNetflow.args.addtable)"
   ]
  },
  {
   "cell_type": "code",
   "execution_count": null,
   "metadata": {},
   "outputs": [],
   "source": [
    "conn.save(table='nf_day_02_hr13', name='nf_day_02_hr13.sashdat', caslib='LANL_NF')"
   ]
  },
  {
   "cell_type": "code",
   "execution_count": null,
   "metadata": {},
   "outputs": [],
   "source": [
    "conn.close()"
   ]
  },
  {
   "cell_type": "code",
   "execution_count": null,
   "metadata": {},
   "outputs": [],
   "source": []
  }
 ],
 "metadata": {
  "kernelspec": {
   "display_name": "Python 3",
   "language": "python",
   "name": "python3"
  },
  "language_info": {
   "codemirror_mode": {
    "name": "ipython",
    "version": 3
   },
   "file_extension": ".py",
   "mimetype": "text/x-python",
   "name": "python",
   "nbconvert_exporter": "python",
   "pygments_lexer": "ipython3",
   "version": "3.7.2"
  }
 },
 "nbformat": 4,
 "nbformat_minor": 2
}
