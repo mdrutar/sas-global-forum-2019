{
 "cells": [
  {
   "cell_type": "markdown",
   "metadata": {},
   "source": [
    "### Implementing the Failed Logins Analytic in Production\n",
    "\n",
    "For this notebook, we demonstrate how the queries and data we saw in the previous exploratory notebook can be used to implement the same analytic but in a production alerting environment.\n",
    "\n",
    "Note that here we import a number of prebuilt modules from the `sascyber` module.\n",
    "\n",
    "Additionally, we use a custom analytic that we create and store in the `/home/ds/custom/code/` path.\n",
    "\n",
    "__Damian Herrick__  \n",
    "__SAS Institute__  \n",
    "__[damian.herrick@sas.com](mailto:damian.herrick@sas.com)__  "
   ]
  },
  {
   "cell_type": "code",
   "execution_count": 1,
   "metadata": {},
   "outputs": [],
   "source": [
    "import os\n",
    "import sys\n",
    "\n",
    "from sascyber.utils.log import setup_logging\n",
    "from sascyber.configs.analyticmanager import AnalyticsManagerConfig\n",
    "from sascyber.servers.DAGServer import DAGServer\n",
    "from sascyber.utils.exceptions import SASCyberMissingEnvVariable\n",
    "from sascyber.utils.exceptions import SASCyberMissingConfig"
   ]
  },
  {
   "cell_type": "markdown",
   "metadata": {},
   "source": [
    "Our base analytic for this is called `Logins`"
   ]
  },
  {
   "cell_type": "code",
   "execution_count": 2,
   "metadata": {},
   "outputs": [],
   "source": [
    "from sascyber.analytics.wh.logins import Logins"
   ]
  },
  {
   "cell_type": "markdown",
   "metadata": {},
   "source": [
    "The production analytic environment requires a lot more in terms of environment variables:\n",
    "\n",
    "* `CYBER_ARGS` defines the analytic configuration file.\n",
    "* `CYBER_ROOT` defines the root directory.\n",
    "* `CYBER_DEFAULT_LOGGING` defines whether we use logging defaults. We don't here.\n",
    "* `CYBER_LOG` defines the location of the logging format configuration file."
   ]
  },
  {
   "cell_type": "code",
   "execution_count": 3,
   "metadata": {},
   "outputs": [],
   "source": [
    "os.environ[\"CYBER_ARGS\"] = '/home/ds/custom/config/wh_60m.json'\n",
    "os.environ[\"CYBER_ROOT\"] = '/home/ds'\n",
    "os.environ[\"CYBER_DEFAULT_LOGGING\"] = 'false'\n",
    "os.environ[\"CYBER_LOG\"] = '/home/ds/custom/config/logformat.json'"
   ]
  },
  {
   "cell_type": "markdown",
   "metadata": {},
   "source": [
    "First thing we need to do is create a configuration class.\n",
    "\n",
    "This class orchestrates the analytics as they run - consolidates everything we need into a single object."
   ]
  },
  {
   "cell_type": "code",
   "execution_count": 4,
   "metadata": {},
   "outputs": [],
   "source": [
    "cyber_config = AnalyticsManagerConfig()"
   ]
  },
  {
   "cell_type": "markdown",
   "metadata": {},
   "source": [
    "If it successfully created, we found the configuration.\n",
    "\n",
    "Because we're doing this interactively, report the status of the file. Typically this isn't done in production, though."
   ]
  },
  {
   "cell_type": "code",
   "execution_count": 5,
   "metadata": {},
   "outputs": [
    {
     "name": "stdout",
     "output_type": "stream",
     "text": [
      "CYBER_ARGS (environment variable) :: /home/ds/custom/config/wh_60m.json\n",
      "CYBER_ARGS (config object)        :: /home/ds/custom/config/wh_60m.json\n",
      "CYBER_ROOT (environment variable) :: /home/ds\n",
      "CYBER_ROOT (config object)        :: /home/ds\n",
      "CYBER_DEFAULT_LOGGING (environment variable) :: false\n",
      "CYBER_DEFAULT_LOGGING (config object)        :: False\n",
      "CYBER_LOG (environment variable) :: /home/ds/custom/config/logformat.json\n",
      "CYBER_LOG (config object)        :: /home/ds/custom/config/logformat.json\n",
      "analytics_type: sascyber.analytics\n",
      "custom_analytics_allowed: True\n",
      "custom_analytics_path: /home/ds/custom/wh\n",
      "filters: {\n",
      "    \"EventsFailedLogins\": {\n",
      "        \"clause\": \"EventID = 4625\",\n",
      "        \"input\": \"{intable}\",\n",
      "        \"output\": \"{intable}_FAILED_LOGINS\"\n",
      "    }\n",
      "}\n",
      "loginfo: {\n",
      "    \"formatters\": {\n",
      "        \"f\": {\n",
      "            \"datefmt\": \"%Y-%m-%d::%H:%M:%S\",\n",
      "            \"format\": \"%(asctime)s:\\t%(process)d:\\t%(filename)s:\\t%(levelname)s:\\t[%(name)s:%(filename)s:%(lineno)s - %(funcName)s()] %(message)s\"\n",
      "        }\n",
      "    },\n",
      "    \"handlers\": {\n",
      "        \"h\": {\n",
      "            \"class\": \"logging.StreamHandler\",\n",
      "            \"formatter\": \"f\",\n",
      "            \"level\": \"DEBUG\",\n",
      "            \"stream\": \"ext://sys.stdout\"\n",
      "        },\n",
      "        \"h2\": {\n",
      "            \"class\": \"logging.FileHandler\",\n",
      "            \"filename\": \"/home/ds/logs/sascyber_timing.log\",\n",
      "            \"formatter\": \"f\",\n",
      "            \"level\": \"INFO\"\n",
      "        },\n",
      "        \"h3\": {\n",
      "            \"class\": \"logging.FileHandler\",\n",
      "            \"filename\": \"/home/ds/logs/sascyber.log\",\n",
      "            \"formatter\": \"f\",\n",
      "            \"level\": \"DEBUG\"\n",
      "        }\n",
      "    },\n",
      "    \"loggers\": {\n",
      "        \"sascyber\": {\n",
      "            \"handlers\": [\n",
      "                \"h3\"\n",
      "            ],\n",
      "            \"level\": \"DEBUG\",\n",
      "            \"propagate\": false\n",
      "        },\n",
      "        \"timing\": {\n",
      "            \"handlers\": [\n",
      "                \"h2\"\n",
      "            ],\n",
      "            \"level\": \"INFO\",\n",
      "            \"propagate\": false\n",
      "        }\n",
      "    },\n",
      "    \"version\": 1\n",
      "}\n"
     ]
    }
   ],
   "source": [
    "cyber_config.status()"
   ]
  },
  {
   "cell_type": "markdown",
   "metadata": {},
   "source": [
    "Next, we change to our cyber root directory."
   ]
  },
  {
   "cell_type": "code",
   "execution_count": 6,
   "metadata": {},
   "outputs": [],
   "source": [
    "os.chdir(cyber_config.CYBER_ROOT)"
   ]
  },
  {
   "cell_type": "markdown",
   "metadata": {},
   "source": [
    "Set up our logging."
   ]
  },
  {
   "cell_type": "code",
   "execution_count": 7,
   "metadata": {},
   "outputs": [],
   "source": [
    "log = setup_logging(cyber_config)\n",
    "log.info(\"initialization successful\")"
   ]
  },
  {
   "cell_type": "markdown",
   "metadata": {},
   "source": [
    "Our analytics are run using a `DAGServer` object. This object handles all of the heavy lifting of our analytic."
   ]
  },
  {
   "cell_type": "code",
   "execution_count": null,
   "metadata": {},
   "outputs": [],
   "source": [
    "server = DAGServer(cyber_config)"
   ]
  },
  {
   "cell_type": "markdown",
   "metadata": {},
   "source": [
    "Finally, we run our analytic. This loads data from CAS, calculates the analytic scores for each entity (USERS in this case), and then writes all to a CSV."
   ]
  },
  {
   "cell_type": "code",
   "execution_count": null,
   "metadata": {},
   "outputs": [],
   "source": [
    "server.run()"
   ]
  }
 ],
 "metadata": {
  "kernelspec": {
   "display_name": "Python 3",
   "language": "python",
   "name": "python3"
  },
  "language_info": {
   "codemirror_mode": {
    "name": "ipython",
    "version": 3
   },
   "file_extension": ".py",
   "mimetype": "text/x-python",
   "name": "python",
   "nbconvert_exporter": "python",
   "pygments_lexer": "ipython3",
   "version": "3.7.2"
  }
 },
 "nbformat": 4,
 "nbformat_minor": 2
}
