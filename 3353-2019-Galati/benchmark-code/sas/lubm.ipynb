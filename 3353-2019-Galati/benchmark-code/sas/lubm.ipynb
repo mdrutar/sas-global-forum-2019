{
 "cells": [
  {
   "cell_type": "code",
   "execution_count": null,
   "metadata": {
    "collapsed": true
   },
   "outputs": [],
   "source": [
    "import pandas as pd\n",
    "import swat"
   ]
  },
  {
   "cell_type": "markdown",
   "metadata": {},
   "source": [
    "# Server setup\n",
    "(requires user-specific parameters)"
   ]
  },
  {
   "cell_type": "code",
   "execution_count": null,
   "metadata": {
    "collapsed": false
   },
   "outputs": [],
   "source": [
    "s = swat.CAS(host, port, username)"
   ]
  },
  {
   "cell_type": "code",
   "execution_count": null,
   "metadata": {
    "collapsed": false
   },
   "outputs": [],
   "source": [
    "s.table.addCaslib(caslib = \"data\",\n",
    "    dataSource = {\"srcType\":\"path\"},\n",
    "    path = \"/path/to/lubm_50/csv/data\")\n",
    "\n",
    "s.sessionProp.setSessOpt(cmplib=\"data.myRoutines\")"
   ]
  },
  {
   "cell_type": "code",
   "execution_count": null,
   "metadata": {
    "collapsed": false
   },
   "outputs": [],
   "source": [
    "s.loadActionSet('Network')\n",
    "s.loadActionSet('fcmpact')"
   ]
  },
  {
   "cell_type": "code",
   "execution_count": null,
   "metadata": {
    "collapsed": true
   },
   "outputs": [],
   "source": [
    "NTHREADS = 8"
   ]
  },
  {
   "cell_type": "markdown",
   "metadata": {},
   "source": [
    "# Load data"
   ]
  },
  {
   "cell_type": "code",
   "execution_count": null,
   "metadata": {
    "collapsed": false
   },
   "outputs": [],
   "source": [
    "s.table.loadTable(caslib=\"data\", path=\"lubm_50_links.csv\", casout={\"name\":\"links\", \"replace\":True})\n",
    "s.table.loadTable(caslib=\"data\", path=\"lubm_50_nodes.csv\", casout={\"name\":\"nodes\", \"replace\":True})"
   ]
  },
  {
   "cell_type": "markdown",
   "metadata": {},
   "source": [
    "# Run queries"
   ]
  },
  {
   "cell_type": "markdown",
   "metadata": {},
   "source": [
    "## q02"
   ]
  },
  {
   "cell_type": "code",
   "execution_count": null,
   "metadata": {
    "collapsed": false
   },
   "outputs": [],
   "source": [
    "nodesQuery = [[0, 'GraduateStudent'],\n",
    "              [1, 'Department'],\n",
    "              [2, 'University']]\n",
    "linksQuery = [[0, 1, ''],\n",
    "              [0, 2, 'undergraduateDegreeFrom'],\n",
    "              [1, 2, 'subOrganizationOf']]\n",
    "nodesQuery = pd.DataFrame(nodesQuery, columns = ['node','type'])\n",
    "linksQuery = pd.DataFrame(linksQuery, columns = ['from', 'to', 'type'])"
   ]
  },
  {
   "cell_type": "code",
   "execution_count": null,
   "metadata": {
    "collapsed": false
   },
   "outputs": [],
   "source": [
    "s.addRoutines(\n",
    "    routineCode = '''\n",
    "    function myLinkFilter(fromQ, toQ, type $);\n",
    "        if(fromQ=0 and toQ=1) then return (type='worksFor' or type='memberOf');\n",
    "        else return (1);\n",
    "        endsub;''',\n",
    "    package   = \"myPackage\",\n",
    "    saveTable = True,\n",
    "    funcTable = {\"name\": \"myRoutines\", \"replace\": True}\n",
    ")  "
   ]
  },
  {
   "cell_type": "code",
   "execution_count": null,
   "metadata": {
    "collapsed": false
   },
   "outputs": [],
   "source": [
    "s.upload(nodesQuery, casout = {'name':'nodesQuery', 'replace':True})\n",
    "s.upload(linksQuery, casout = {'name':'linksQuery', 'replace':True})\n",
    "result = s.network.patternMatch(\n",
    "                nThreads       = NTHREADS,\n",
    "                multiLinks     = True,\n",
    "                direction      = \"directed\",\n",
    "                links          = {\"name\":\"links\"},\n",
    "                nodes          = {\"name\":\"nodes\"},\n",
    "                linksQuery     = {\"name\":\"linksQuery\"},\n",
    "                nodesQuery     = {\"name\":\"nodesQuery\"},\n",
    "                nodesVar       = {\"vars\":(\"type\")},\n",
    "                linksVar       = {\"vars\":(\"type\")},\n",
    "                nodesQueryVar  = {\"vars\":(\"type\")},\n",
    "                linksQueryVar  = {\"vars\":(\"type\")},\n",
    "                linkFilter     = \"myLinkFilter\")"
   ]
  },
  {
   "cell_type": "markdown",
   "metadata": {},
   "source": [
    "## q04"
   ]
  },
  {
   "cell_type": "code",
   "execution_count": null,
   "metadata": {
    "collapsed": false
   },
   "outputs": [],
   "source": [
    "nodesQuery = [[0, '', ''],\n",
    "              [1, 'Department0.University0', 'Department']]\n",
    "linksQuery = [[0, 1, 'worksFor']]\n",
    "nodesQuery = pd.DataFrame(nodesQuery, columns = ['node', 'id','type'])\n",
    "linksQuery = pd.DataFrame(linksQuery, columns = ['from', 'to', 'type'])"
   ]
  },
  {
   "cell_type": "code",
   "execution_count": null,
   "metadata": {
    "collapsed": false
   },
   "outputs": [],
   "source": [
    "s.addRoutines(\n",
    "    routineCode = '''\n",
    "    function myNodeFilter(nodeQ, type $);\n",
    "        if(nodeQ=0) then return (type='FullProfessor' or type='AssociateProfessor' or type='AssistantProfessor');\n",
    "        else return (1);\n",
    "    endsub;''',\n",
    "    package   = \"myPackage\",\n",
    "    saveTable = True,\n",
    "    funcTable = {\"name\": \"myRoutines\", \"replace\": True}\n",
    ")  "
   ]
  },
  {
   "cell_type": "code",
   "execution_count": null,
   "metadata": {
    "collapsed": false
   },
   "outputs": [],
   "source": [
    "s.upload(nodesQuery, casout = {'name':'nodesQuery', 'replace':True})\n",
    "s.upload(linksQuery, casout = {'name':'linksQuery', 'replace':True})\n",
    "result = s.network.patternMatch(\n",
    "                nThreads       = NTHREADS,\n",
    "                multiLinks     = True,\n",
    "                direction      = \"directed\",\n",
    "                links          = {\"name\":\"links\"},\n",
    "                nodes          = {\"name\":\"nodes\"},\n",
    "                linksQuery     = {\"name\":\"linksQuery\"},\n",
    "                nodesQuery     = {\"name\":\"nodesQuery\"},\n",
    "                nodesVar       = {\"vars\":(\"id\", \"type\")},\n",
    "                linksVar       = {\"vars\":(\"type\")},\n",
    "                nodesQueryVar  = {\"vars\":(\"id\", \"type\")},\n",
    "                linksQueryVar  = {\"vars\":(\"type\")},\n",
    "                nodeFilter     = \"myNodeFilter\")"
   ]
  },
  {
   "cell_type": "markdown",
   "metadata": {},
   "source": [
    "## q05"
   ]
  },
  {
   "cell_type": "code",
   "execution_count": null,
   "metadata": {
    "collapsed": false
   },
   "outputs": [],
   "source": [
    "nodesQuery = [[0, '', ''],\n",
    "              [1, 'Department0.University0', 'Department']]\n",
    "linksQuery = [[0, 1]]\n",
    "nodesQuery = pd.DataFrame(nodesQuery, columns = ['node', 'id','type'])\n",
    "linksQuery = pd.DataFrame(linksQuery, columns = ['from', 'to'])"
   ]
  },
  {
   "cell_type": "code",
   "execution_count": null,
   "metadata": {
    "collapsed": false
   },
   "outputs": [],
   "source": [
    "s.addRoutines(\n",
    "    routineCode = '''\n",
    "    function myNodeFilter(nodeQ, type $);\n",
    "        if(nodeQ=0) then return (type in ('FullProfessor','AssociateProfessor','AssistantProfessor','Lecturer','GraduateStudent','UndergraduateStudent'));\n",
    "        else return (1);\n",
    "    endsub;\n",
    "    function myLinkFilter(fromQ, toQ, type $);\n",
    "        if(fromQ=0 and toQ=1) then return (type='worksFor' or type='memberOf');\n",
    "        else return (1);\n",
    "    endsub;''',\n",
    "    package   = \"myPackage\",\n",
    "    saveTable = True,\n",
    "    funcTable = {\"name\": \"myRoutines\", \"replace\": True}\n",
    ")"
   ]
  },
  {
   "cell_type": "code",
   "execution_count": null,
   "metadata": {
    "collapsed": false
   },
   "outputs": [],
   "source": [
    "s.upload(nodesQuery, casout = {'name':'nodesQuery', 'replace':True})\n",
    "s.upload(linksQuery, casout = {'name':'linksQuery', 'replace':True})\n",
    "result = s.network.patternMatch(\n",
    "                nThreads       = NTHREADS,\n",
    "                multiLinks     = True,\n",
    "                direction      = \"directed\",\n",
    "                links          = {\"name\":\"links\"},\n",
    "                nodes          = {\"name\":\"nodes\"},\n",
    "                linksQuery     = {\"name\":\"linksQuery\"},\n",
    "                nodesQuery     = {\"name\":\"nodesQuery\"},\n",
    "                nodesVar       = {\"vars\":(\"id\", \"type\")},\n",
    "                linksVar       = {\"vars\":(\"type\")},\n",
    "                nodesQueryVar  = {\"vars\":(\"id\", \"type\")},\n",
    "                nodeFilter     = \"myNodeFilter\",\n",
    "                linkFilter     = \"myLinkFilter\")"
   ]
  },
  {
   "cell_type": "markdown",
   "metadata": {},
   "source": [
    "## q06"
   ]
  },
  {
   "cell_type": "code",
   "execution_count": null,
   "metadata": {
    "collapsed": false
   },
   "outputs": [],
   "source": [
    "nodesQuery = [[0, '']]\n",
    "nodesQuery = pd.DataFrame(nodesQuery, columns = ['node', 'type'])"
   ]
  },
  {
   "cell_type": "code",
   "execution_count": null,
   "metadata": {
    "collapsed": false
   },
   "outputs": [],
   "source": [
    "s.addRoutines(\n",
    "    routineCode = '''\n",
    "    function myNodeFilter(nodeQ, type $);\n",
    "        if(nodeQ=0) then return (type='GraduateStudent' or type='UndergraduateStudent');\n",
    "        else return (1);\n",
    "    endsub;''',\n",
    "    package   = \"myPackage\",\n",
    "    saveTable = True,\n",
    "    funcTable = {\"name\": \"myRoutines\", \"replace\": True}\n",
    ")"
   ]
  },
  {
   "cell_type": "code",
   "execution_count": null,
   "metadata": {
    "collapsed": false
   },
   "outputs": [],
   "source": [
    "s.upload(nodesQuery, casout = {'name':'nodesQuery', 'replace':True})\n",
    "result = s.network.patternMatch(\n",
    "                nThreads       = NTHREADS,\n",
    "                multiLinks     = True,\n",
    "                direction      = \"directed\",\n",
    "                links          = {\"name\":\"links\"},\n",
    "                nodes          = {\"name\":\"nodes\"},\n",
    "                nodesQuery     = {\"name\":\"nodesQuery\"},\n",
    "                nodesVar       = {\"vars\":\"type\"},\n",
    "                nodeFilter     = \"myNodeFilter\")"
   ]
  },
  {
   "cell_type": "markdown",
   "metadata": {},
   "source": [
    "# q07"
   ]
  },
  {
   "cell_type": "code",
   "execution_count": null,
   "metadata": {
    "collapsed": false
   },
   "outputs": [],
   "source": [
    "nodesQuery = [[0, '', ''], \n",
    "              [1, '', 'Course'],\n",
    "              [2, 'Department0.University0.AssociateProfessor0', '']]\n",
    "linksQuery = [[0, 1, 'takesCourse'],\n",
    "              [2, 1, 'teacherOf']]\n",
    "nodesQuery = pd.DataFrame(nodesQuery, columns = ['node', 'id','type'])\n",
    "linksQuery = pd.DataFrame(linksQuery, columns = ['from', 'to', 'type'])"
   ]
  },
  {
   "cell_type": "code",
   "execution_count": null,
   "metadata": {
    "collapsed": false
   },
   "outputs": [],
   "source": [
    "s.addRoutines(\n",
    "    routineCode = '''\n",
    "    function myNodeFilter(nodeQ, type $);\n",
    "        if(nodeQ=0) then return (type='GraduateStudent' or type='UndergraduateStudent');\n",
    "        else return (1);\n",
    "    endsub;''',\n",
    "    package   = \"myPackage\",\n",
    "    saveTable = True,\n",
    "    funcTable = {\"name\": \"myRoutines\", \"replace\": True}\n",
    ")"
   ]
  },
  {
   "cell_type": "code",
   "execution_count": null,
   "metadata": {
    "collapsed": false
   },
   "outputs": [],
   "source": [
    "s.upload(nodesQuery, casout = {'name':'nodesQuery', 'replace':True})\n",
    "s.upload(linksQuery, casout = {'name':'linksQuery', 'replace':True})\n",
    "result = s.network.patternMatch(\n",
    "                nThreads       = NTHREADS,\n",
    "                multiLinks     = True,\n",
    "                direction      = \"directed\",\n",
    "                links          = {\"name\":\"links\"},\n",
    "                nodes          = {\"name\":\"nodes\"},\n",
    "                linksQuery     = {\"name\":\"linksQuery\"},\n",
    "                nodesQuery     = {\"name\":\"nodesQuery\"},\n",
    "                nodesVar       = {\"vars\":(\"id\", \"type\")},\n",
    "                linksVar       = {\"vars\":(\"type\")},\n",
    "                nodesQueryVar  = {\"vars\":(\"id\", \"type\")},\n",
    "                nodeFilter     = \"myNodeFilter\")"
   ]
  },
  {
   "cell_type": "markdown",
   "metadata": {},
   "source": [
    "## q08"
   ]
  },
  {
   "cell_type": "markdown",
   "metadata": {},
   "source": [
    "### q08-1"
   ]
  },
  {
   "cell_type": "code",
   "execution_count": null,
   "metadata": {
    "collapsed": false
   },
   "outputs": [],
   "source": [
    "nodesQuery = [[0, '', ''], \n",
    "              [1, '', 'Department'], \n",
    "              [2, 'University0', '']]\n",
    "linksQuery = [[0, 1, ''],\n",
    "              [1, 2, 'subOrganizationOf']]\n",
    "nodesQuery = pd.DataFrame(nodesQuery, columns = ['node', 'id','type'])\n",
    "linksQuery = pd.DataFrame(linksQuery, columns = ['from', 'to', 'type'])"
   ]
  },
  {
   "cell_type": "code",
   "execution_count": null,
   "metadata": {
    "collapsed": false
   },
   "outputs": [],
   "source": [
    "s.addRoutines(\n",
    "    routineCode = '''\n",
    "    function myNodeFilter(nodeQ, type $);\n",
    "        if(nodeQ=0) then return (type='GraduateStudent' or type='UndergraduateStudent');\n",
    "        else return (1);\n",
    "    endsub;\n",
    "    function myLinkFilter(fromQ, toQ, type $);\n",
    "        if(fromQ=0 and toQ=1) then return (type='memberOf' or type='worksFor');\n",
    "        else return (1);\n",
    "    endsub;''',\n",
    "    package   = \"myPackage\",\n",
    "    saveTable = True,\n",
    "    funcTable = {\"name\": \"myRoutines\", \"replace\": True}\n",
    ")"
   ]
  },
  {
   "cell_type": "code",
   "execution_count": null,
   "metadata": {
    "collapsed": false
   },
   "outputs": [],
   "source": [
    "s.upload(nodesQuery, casout = {'name':'nodesQuery', 'replace':True})\n",
    "s.upload(linksQuery, casout = {'name':'linksQuery', 'replace':True})\n",
    "result = s.network.patternMatch(\n",
    "                nThreads       = NTHREADS,\n",
    "                multiLinks     = True,\n",
    "                direction      = \"directed\",\n",
    "                links          = {\"name\":\"links\"},\n",
    "                nodes          = {\"name\":\"nodes\"},\n",
    "                linksQuery     = {\"name\":\"linksQuery\"},\n",
    "                nodesQuery     = {\"name\":\"nodesQuery\"},\n",
    "                nodesVar       = {\"vars\":(\"id\", \"type\")},\n",
    "                linksVar       = {\"vars\":(\"type\")},\n",
    "                nodesQueryVar  = {\"vars\":(\"id\", \"type\")},\n",
    "                nodeFilter     = \"myNodeFilter\",\n",
    "                linkFilter     = \"myLinkFilter\")"
   ]
  },
  {
   "cell_type": "markdown",
   "metadata": {},
   "source": [
    "### q08-2"
   ]
  },
  {
   "cell_type": "code",
   "execution_count": null,
   "metadata": {
    "collapsed": false
   },
   "outputs": [],
   "source": [
    "nodesQuery = [[0, '', ''], \n",
    "              [1, '', 'Department'],\n",
    "              [2, '', ''],\n",
    "              [3, 'University0', '']]\n",
    "linksQuery = [[0, 1, ''], \n",
    "              [1, 2, 'subOrganizationOf'],\n",
    "              [2, 3, 'subOrganizationOf']]\n",
    "nodesQuery = pd.DataFrame(nodesQuery, columns = ['node', 'id','type'])\n",
    "linksQuery = pd.DataFrame(linksQuery, columns = ['from', 'to', 'type'])"
   ]
  },
  {
   "cell_type": "code",
   "execution_count": null,
   "metadata": {
    "collapsed": false
   },
   "outputs": [],
   "source": [
    "s.addRoutines(\n",
    "    routineCode = '''\n",
    "    function myNodeFilter(nodeQ, type $);\n",
    "        if(nodeQ=0) then return (type='GraduateStudent' or type='UndergraduateStudent');\n",
    "        else return (1);\n",
    "    endsub;\n",
    "    function myLinkFilter(fromQ, toQ, type $);\n",
    "        if(fromQ=0 and toQ=1) then return (type='memberOf' or type='worksFor');\n",
    "        else return (1);\n",
    "    endsub;''',\n",
    "    package   = \"myPackage\",\n",
    "    saveTable = True,\n",
    "    funcTable = {\"name\": \"myRoutines\", \"replace\": True}\n",
    ")"
   ]
  },
  {
   "cell_type": "code",
   "execution_count": null,
   "metadata": {
    "collapsed": false
   },
   "outputs": [],
   "source": [
    "s.upload(nodesQuery, casout = {'name':'nodesQuery', 'replace':True})\n",
    "s.upload(linksQuery, casout = {'name':'linksQuery', 'replace':True})\n",
    "result = s.network.patternMatch(\n",
    "                nThreads       = NTHREADS,\n",
    "                multiLinks     = True,\n",
    "                direction      = \"directed\",\n",
    "                links          = {\"name\":\"links\"},\n",
    "                nodes          = {\"name\":\"nodes\"},\n",
    "                linksQuery     = {\"name\":\"linksQuery\"},\n",
    "                nodesQuery     = {\"name\":\"nodesQuery\"},\n",
    "                nodesVar       = {\"vars\":(\"id\", \"type\")},\n",
    "                linksVar       = {\"vars\":(\"type\")},\n",
    "                nodesQueryVar  = {\"vars\":(\"id\", \"type\")},\n",
    "                nodeFilter     = \"myNodeFilter\",\n",
    "                linkFilter     = \"myLinkFilter\")"
   ]
  },
  {
   "cell_type": "markdown",
   "metadata": {},
   "source": [
    "## q09"
   ]
  },
  {
   "cell_type": "code",
   "execution_count": null,
   "metadata": {
    "collapsed": false,
    "scrolled": true
   },
   "outputs": [],
   "source": [
    "nodesQuery = [[0], \n",
    "              [1],\n",
    "              [2]]\n",
    "linksQuery = [[0, 1, 'advisor'],\n",
    "              [1, 2, 'teacherOf'],\n",
    "              [0, 2, 'takesCourse']]\n",
    "nodesQuery = pd.DataFrame(nodesQuery, columns = ['node'])\n",
    "linksQuery = pd.DataFrame(linksQuery, columns = ['from', 'to', 'type'])"
   ]
  },
  {
   "cell_type": "code",
   "execution_count": null,
   "metadata": {
    "collapsed": false
   },
   "outputs": [],
   "source": [
    "s.addRoutines(\n",
    "    routineCode = '''\n",
    "    function myNodeFilter(nodeQ, type $);\n",
    "        if(nodeQ=0) then return (type='GraduateStudent' or type='UndergraduateStudent');\n",
    "        if(nodeQ=1) then return (type='FullProfessor' or type='AssociateProfessor' or type='AssistantProfessor' or type='Lecturer');\n",
    "        if(nodeQ=3) then return (type='Course' or type='GraduateCourse');\n",
    "        else return (1);\n",
    "    endsub;''',\n",
    "    package   = \"myPackage\",\n",
    "    saveTable = True,\n",
    "    funcTable = {\"name\": \"myRoutines\", \"replace\": True}\n",
    ")"
   ]
  },
  {
   "cell_type": "code",
   "execution_count": null,
   "metadata": {
    "collapsed": false
   },
   "outputs": [],
   "source": [
    "s.upload(nodesQuery, casout = {'name':'nodesQuery', 'replace':True})\n",
    "s.upload(linksQuery, casout = {'name':'linksQuery', 'replace':True})\n",
    "result = s.network.patternMatch(\n",
    "                nThreads       = NTHREADS,\n",
    "                multiLinks     = True,\n",
    "                direction      = \"directed\",\n",
    "                links          = {\"name\":\"links\"},\n",
    "                nodes          = {\"name\":\"nodes\"},\n",
    "                linksQuery     = {\"name\":\"linksQuery\"},\n",
    "                nodesQuery     = {\"name\":\"nodesQuery\"},\n",
    "                nodesVar       = {\"vars\":(\"id\", \"type\")},\n",
    "                linksVar       = {\"vars\":(\"type\")},\n",
    "                linksQueryVar  = {\"vars\":(\"type\")},\n",
    "                nodeFilter     = \"myNodeFilter\")"
   ]
  },
  {
   "cell_type": "markdown",
   "metadata": {},
   "source": [
    "## q12"
   ]
  },
  {
   "cell_type": "code",
   "execution_count": null,
   "metadata": {
    "collapsed": true
   },
   "outputs": [],
   "source": [
    "def q12(nodesQuery, linksQuery):\n",
    "    s.upload(nodesQuery, casout = {'name':'nodesQuery', 'replace':True})\n",
    "    s.upload(linksQuery, casout = {'name':'linksQuery', 'replace':True})\n",
    "    result = s.network.patternMatch(\n",
    "                nThreads       = NTHREADS,\n",
    "                multiLinks     = True,\n",
    "                direction      = \"directed\",\n",
    "                links          = {\"name\":\"links\"},\n",
    "                nodes          = {\"name\":\"nodes\"},\n",
    "                linksQuery     = {\"name\":\"linksQuery\"},\n",
    "                nodesQuery     = {\"name\":\"nodesQuery\"},\n",
    "                nodesVar       = {\"vars\":(\"id\", \"type\")},\n",
    "                linksVar       = {\"vars\":(\"type\")},\n",
    "                nodesQueryVar  = {\"vars\":(\"id\", \"type\")},\n",
    "                linksQueryVar  = {\"vars\":(\"type\")})"
   ]
  },
  {
   "cell_type": "markdown",
   "metadata": {},
   "source": [
    "### q12-1"
   ]
  },
  {
   "cell_type": "code",
   "execution_count": null,
   "metadata": {
    "collapsed": false
   },
   "outputs": [],
   "source": [
    "nodesQuery = [[0, '', 'FullProfessor'],\n",
    "              [1, '', 'Department'],\n",
    "              [2, 'University0', ''],\n",
    "              [3, '', 'Department']]\n",
    "linksQuery = [[0, 1, 'subOrganizationOf'],\n",
    "              [1, 2, 'teacherOf'],\n",
    "              [0, 2, 'headOf']]\n",
    "nodesQuery = pd.DataFrame(nodesQuery, columns = ['node', 'id', 'type'])\n",
    "linksQuery = pd.DataFrame(linksQuery, columns = ['from', 'to', 'type'])"
   ]
  },
  {
   "cell_type": "code",
   "execution_count": null,
   "metadata": {
    "collapsed": false
   },
   "outputs": [],
   "source": [
    "q12(nodesQuery, linksQuery)"
   ]
  },
  {
   "cell_type": "markdown",
   "metadata": {},
   "source": [
    "### q12-2"
   ]
  },
  {
   "cell_type": "code",
   "execution_count": null,
   "metadata": {
    "collapsed": false
   },
   "outputs": [],
   "source": [
    "nodesQuery = [[0, '', 'FullProfessor'],\n",
    "              [1, '', 'Department'],\n",
    "              [2, 'University0', ''],\n",
    "              [3, '', 'Department'],\n",
    "              [4, '','']]\n",
    "linksQuery = [[0, 1, 'worksFor'],\n",
    "              [1, 4, 'subOrganizationOf'],\n",
    "              [0, 3, 'headOf'],\n",
    "              [4, 2, 'subOrganizationOf']]\n",
    "nodesQuery = pd.DataFrame(nodesQuery, columns = ['node', 'id', 'type'])\n",
    "linksQuery = pd.DataFrame(linksQuery, columns = ['from', 'to', 'type'])"
   ]
  },
  {
   "cell_type": "code",
   "execution_count": null,
   "metadata": {
    "collapsed": false
   },
   "outputs": [],
   "source": [
    "q12(nodesQuery, linksQuery)"
   ]
  },
  {
   "cell_type": "markdown",
   "metadata": {},
   "source": [
    "### q12-3"
   ]
  },
  {
   "cell_type": "code",
   "execution_count": null,
   "metadata": {
    "collapsed": false
   },
   "outputs": [],
   "source": [
    "nodesQuery = [[0, '', 'FullProfessor'],\n",
    "              [1, '', 'Department'],\n",
    "              [2, 'University0', '']]\n",
    "linksQuery = [[0, 1, 'worksFor'],\n",
    "              [1, 2, 'subOrganizationOf'],\n",
    "              [0, 1, 'headOf']]\n",
    "nodesQuery = pd.DataFrame(nodesQuery, columns = ['node', 'id', 'type'])\n",
    "linksQuery = pd.DataFrame(linksQuery, columns = ['from', 'to', 'type'])"
   ]
  },
  {
   "cell_type": "code",
   "execution_count": null,
   "metadata": {
    "collapsed": false
   },
   "outputs": [],
   "source": [
    "q12(nodesQuery, linksQuery)"
   ]
  },
  {
   "cell_type": "markdown",
   "metadata": {},
   "source": [
    "### q12-4"
   ]
  },
  {
   "cell_type": "code",
   "execution_count": null,
   "metadata": {
    "collapsed": false
   },
   "outputs": [],
   "source": [
    "nodesQuery = [[0, '', 'FullProfessor'],\n",
    "              [1, '', 'Department'],\n",
    "              [2, 'University0', ''],\n",
    "              [3, '', '']]\n",
    "linksQuery = [[0, 1, 'worksFor'],\n",
    "              [1, 3, 'subOrganizationOf'],\n",
    "              [0, 1, 'headOf'],\n",
    "              [3, 2, 'subOrganizationOf']]\n",
    "nodesQuery = pd.DataFrame(nodesQuery, columns = ['node', 'id', 'type'])\n",
    "linksQuery = pd.DataFrame(linksQuery, columns = ['from', 'to', 'type'])"
   ]
  },
  {
   "cell_type": "code",
   "execution_count": null,
   "metadata": {
    "collapsed": false
   },
   "outputs": [],
   "source": [
    "q12(nodesQuery, linksQuery)"
   ]
  },
  {
   "cell_type": "markdown",
   "metadata": {},
   "source": [
    "## q13"
   ]
  },
  {
   "cell_type": "code",
   "execution_count": null,
   "metadata": {
    "collapsed": false
   },
   "outputs": [],
   "source": [
    "nodesQuery = [[0, ''],\n",
    "              [1, 'University0']]\n",
    "linksQuery = [[0, 1]]\n",
    "nodesQuery = pd.DataFrame(nodesQuery, columns = ['node', 'id'])\n",
    "linksQuery = pd.DataFrame(linksQuery, columns = ['from', 'to'])"
   ]
  },
  {
   "cell_type": "code",
   "execution_count": null,
   "metadata": {
    "collapsed": false
   },
   "outputs": [],
   "source": [
    "s.addRoutines(\n",
    "    routineCode = '''\n",
    "    function myLinkFilter(fromQ, toQ, type $);\n",
    "        if(fromQ=0 and toQ=1) then return (type='doctoralDegreeFrom' or type='mastersDegreeFrom' or type='undergraduateDegreeFrom');\n",
    "        else return (1);\n",
    "    endsub;''',\n",
    "    package   = \"myPackage\",\n",
    "    saveTable = True,\n",
    "    funcTable = {\"name\": \"myRoutines\", \"replace\": True}\n",
    ")"
   ]
  },
  {
   "cell_type": "code",
   "execution_count": null,
   "metadata": {
    "collapsed": false
   },
   "outputs": [],
   "source": [
    "s.upload(nodesQuery, casout = {'name':'nodesQuery', 'replace':True})\n",
    "s.upload(linksQuery, casout = {'name':'linksQuery', 'replace':True})\n",
    "result = s.network.patternMatch(\n",
    "                nThreads       = NTHREADS,\n",
    "                multiLinks     = True,\n",
    "                direction      = \"directed\",\n",
    "                links          = {\"name\":\"links\"},\n",
    "                nodes          = {\"name\":\"nodes\"},\n",
    "                linksQuery     = {\"name\":\"linksQuery\"},\n",
    "                nodesQuery     = {\"name\":\"nodesQuery\"},\n",
    "                nodesVar       = {\"vars\":(\"id\")},\n",
    "                linksVar       = {\"vars\":(\"type\")},\n",
    "                nodesQueryVar  = {\"vars\":(\"id\")},\n",
    "                linkFilter     = \"myLinkFilter\")"
   ]
  },
  {
   "cell_type": "markdown",
   "metadata": {},
   "source": [
    "## q14"
   ]
  },
  {
   "cell_type": "code",
   "execution_count": null,
   "metadata": {
    "collapsed": false
   },
   "outputs": [],
   "source": [
    "nodesQuery = [[0, 'UndergraduateStudent']]\n",
    "nodesQuery = pd.DataFrame(nodesQuery, columns = ['node', 'type'])"
   ]
  },
  {
   "cell_type": "code",
   "execution_count": null,
   "metadata": {
    "collapsed": false
   },
   "outputs": [],
   "source": [
    "s.upload(nodesQuery, casout = {'name':'nodesQuery', 'replace':True})\n",
    "result = s.network.patternMatch(\n",
    "                nThreads       = NTHREADS,\n",
    "                multiLinks     = True,\n",
    "                direction      = \"directed\",\n",
    "                links          = {\"name\":\"links\"},\n",
    "                nodes          = {\"name\":\"nodes\"},\n",
    "                nodesQuery     = {\"name\":\"nodesQuery\"},\n",
    "                nodesVar       = {\"vars\":(\"type\")},\n",
    "                nodesQueryVar  = {\"vars\":(\"type\")})"
   ]
  }
 ],
 "metadata": {
  "kernelspec": {
   "display_name": "Python 3",
   "language": "python",
   "name": "python3"
  },
  "language_info": {
   "codemirror_mode": {
    "name": "ipython",
    "version": 3
   },
   "file_extension": ".py",
   "mimetype": "text/x-python",
   "name": "python",
   "nbconvert_exporter": "python",
   "pygments_lexer": "ipython3",
   "version": "3.6.0"
  }
 },
 "nbformat": 4,
 "nbformat_minor": 2
}
