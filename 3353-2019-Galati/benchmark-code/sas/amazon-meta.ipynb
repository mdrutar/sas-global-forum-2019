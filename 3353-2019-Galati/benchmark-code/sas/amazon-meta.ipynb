{
 "cells": [
  {
   "cell_type": "code",
   "execution_count": null,
   "metadata": {
    "collapsed": true
   },
   "outputs": [],
   "source": [
    "import swat\n",
    "import pandas as pd"
   ]
  },
  {
   "cell_type": "markdown",
   "metadata": {},
   "source": [
    "# Server setup\n",
    "(requires user-specific parameters)"
   ]
  },
  {
   "cell_type": "code",
   "execution_count": null,
   "metadata": {
    "collapsed": false
   },
   "outputs": [],
   "source": [
    "s = swat.CAS(host, port, username, password)"
   ]
  },
  {
   "cell_type": "code",
   "execution_count": null,
   "metadata": {
    "collapsed": false
   },
   "outputs": [],
   "source": [
    "s.table.addCaslib(caslib = \"data\",\n",
    "    dataSource = {\"srcType\":\"path\"},\n",
    "    path = \"/path/to/amazon-meta/csv/data\")"
   ]
  },
  {
   "cell_type": "code",
   "execution_count": null,
   "metadata": {
    "collapsed": false
   },
   "outputs": [],
   "source": [
    "s.loadActionSet('Network')"
   ]
  },
  {
   "cell_type": "code",
   "execution_count": null,
   "metadata": {
    "collapsed": true
   },
   "outputs": [],
   "source": [
    "NTHREADS = 8"
   ]
  },
  {
   "cell_type": "markdown",
   "metadata": {},
   "source": [
    "# Load data"
   ]
  },
  {
   "cell_type": "code",
   "execution_count": null,
   "metadata": {
    "collapsed": false
   },
   "outputs": [],
   "source": [
    "s.table.loadTable(caslib=\"data\", path=\"amazon_nodes.csv\", casout={\"name\":\"nodes\", \"replace\":True})\n",
    "s.table.loadTable(caslib=\"data\", path=\"amazon_links.csv\", casout={\"name\":\"links\", \"replace\":True})"
   ]
  },
  {
   "cell_type": "markdown",
   "metadata": {},
   "source": [
    "# Define queries"
   ]
  },
  {
   "cell_type": "markdown",
   "metadata": {},
   "source": [
    "## q01"
   ]
  },
  {
   "cell_type": "code",
   "execution_count": null,
   "metadata": {
    "collapsed": false
   },
   "outputs": [],
   "source": [
    "nodesQuery = [['n1',\"Book: Health, Mind & Body\"],\n",
    "              ['n2',\"Book: Parenting & Families\"],\n",
    "              ['n3',\"Book: Children's Books\"],\n",
    "              ['n4',\"Book: Home & Garden\"]]\n",
    "linksQuery = [['n1', 'n2'],\n",
    "              ['n2', 'n3'],\n",
    "              ['n4', 'n2']]\n",
    "nodesQuery = pd.DataFrame(nodesQuery, columns = ['node','label'])\n",
    "linksQuery = pd.DataFrame(linksQuery, columns = ['from', 'to'])\n",
    "q01 = (nodesQuery, linksQuery)"
   ]
  },
  {
   "cell_type": "markdown",
   "metadata": {},
   "source": [
    "## q02"
   ]
  },
  {
   "cell_type": "code",
   "execution_count": null,
   "metadata": {
    "collapsed": true
   },
   "outputs": [],
   "source": [
    "nodesQuery = [['n0', 'Video: Kids & Family'],\n",
    "              ['n1', 'DVD: Kids & Family'],\n",
    "              ['n2', 'DVD: Comedy'],\n",
    "              ['n3', 'Video: Kids & Family'],\n",
    "              ['n4', 'DVD: Kids & Family'],\n",
    "              ['n5', 'Video: Kids & Family'],\n",
    "              ['n6', 'Video: Kids & Family'],\n",
    "              ['n7', 'DVD: Kids & Family'],\n",
    "              ['n8', 'Video: Kids & Family'],\n",
    "              ['n9', 'DVD: Comedy']]\n",
    "linksQuery = [['n0', 'n2'],\n",
    "              ['n2', 'n4'],\n",
    "              ['n4', 'n5'],\n",
    "              ['n1', 'n6'],\n",
    "              ['n2', 'n6'],\n",
    "              ['n0', 'n7'],\n",
    "              ['n2', 'n7'],\n",
    "              ['n3', 'n7'],\n",
    "              ['n4', 'n7'],\n",
    "              ['n2', 'n8'],\n",
    "              ['n7', 'n8'],\n",
    "              ['n0', 'n9'],\n",
    "              ['n2', 'n9'],\n",
    "              ['n3', 'n9'],\n",
    "              ['n4', 'n9'],\n",
    "              ['n5', 'n9'],\n",
    "              ['n6', 'n9']]\n",
    "nodesQuery = pd.DataFrame(nodesQuery, columns = ['node','label'])\n",
    "linksQuery = pd.DataFrame(linksQuery, columns = ['from', 'to'])\n",
    "q02 = (nodesQuery, linksQuery)"
   ]
  },
  {
   "cell_type": "markdown",
   "metadata": {},
   "source": [
    "## q03"
   ]
  },
  {
   "cell_type": "code",
   "execution_count": null,
   "metadata": {
    "collapsed": false
   },
   "outputs": [],
   "source": [
    "nodesQuery = [['n0', 'Music: Miscellaneous'],\n",
    "              ['n1', 'DVD: Drama'],\n",
    "              ['n2', 'Video: Horror'],\n",
    "              ['n3', 'DVD: Horror'],\n",
    "              ['n4', 'Music: Miscellaneous'],\n",
    "              ['n5', 'DVD: Mystery & Suspense'],\n",
    "              ['n6', 'Book: Mystery & Thrillers'],\n",
    "              ['n7', 'Video: Comedy'],\n",
    "              ['n8', 'DVD: Action & Adventure'],\n",
    "              ['n9', 'DVD: Horror']]    \n",
    "linksQuery = [['n1', 'n3'],\n",
    "              ['n2', 'n3'],\n",
    "              ['n0', 'n4'],\n",
    "              ['n2', 'n5'],\n",
    "              ['n4', 'n7'],\n",
    "              ['n1', 'n8'],\n",
    "              ['n7', 'n8'],\n",
    "              ['n5', 'n9'],\n",
    "              ['n6', 'n9']]\n",
    "nodesQuery = pd.DataFrame(nodesQuery, columns = ['node','label'])\n",
    "linksQuery = pd.DataFrame(linksQuery, columns = ['from', 'to'])\n",
    "q03 = (nodesQuery, linksQuery)"
   ]
  },
  {
   "cell_type": "markdown",
   "metadata": {
    "collapsed": false
   },
   "source": [
    "# Run queries"
   ]
  },
  {
   "cell_type": "code",
   "execution_count": null,
   "metadata": {
    "collapsed": false
   },
   "outputs": [],
   "source": [
    "def runQuery(query):\n",
    "    nodesQuery = query[0]\n",
    "    linksQuery = query[1]\n",
    "    s.upload(nodesQuery, casout = {'name':'nodesQuery', 'replace':True})\n",
    "    s.upload(linksQuery, casout = {'name':'linksQuery', 'replace':True})\n",
    "    \n",
    "    result = s.network.patternMatch(\n",
    "                    nThreads       = NTHREADS,\n",
    "                    multiLinks     = True,\n",
    "                    direction      = \"undirected\",\n",
    "                    links          = {\"name\":\"links\"},\n",
    "                    nodes          = {\"name\":\"nodes\"},\n",
    "                    linksQuery     = {\"name\":\"linksQuery\"},\n",
    "                    nodesQuery     = {\"name\":\"nodesQuery\"},\n",
    "                    nodesVar       = {\"vars\":(\"label\")},\n",
    "                    nodesQueryVar  = {\"vars\":(\"label\")})"
   ]
  },
  {
   "cell_type": "code",
   "execution_count": null,
   "metadata": {
    "collapsed": false
   },
   "outputs": [],
   "source": [
    "runQuery(q01)"
   ]
  },
  {
   "cell_type": "code",
   "execution_count": null,
   "metadata": {
    "collapsed": true
   },
   "outputs": [],
   "source": [
    "runQuery(q02)"
   ]
  },
  {
   "cell_type": "code",
   "execution_count": null,
   "metadata": {
    "collapsed": false
   },
   "outputs": [],
   "source": [
    "runQuery(q03)"
   ]
  }
 ],
 "metadata": {
  "kernelspec": {
   "display_name": "Python 3",
   "language": "python",
   "name": "python3"
  },
  "language_info": {
   "codemirror_mode": {
    "name": "ipython",
    "version": 3
   },
   "file_extension": ".py",
   "mimetype": "text/x-python",
   "name": "python",
   "nbconvert_exporter": "python",
   "pygments_lexer": "ipython3",
   "version": "3.6.0"
  }
 },
 "nbformat": 4,
 "nbformat_minor": 2
}
