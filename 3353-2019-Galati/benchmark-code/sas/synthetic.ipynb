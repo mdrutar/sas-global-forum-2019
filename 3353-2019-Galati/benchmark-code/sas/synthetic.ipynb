{
 "cells": [
  {
   "cell_type": "code",
   "execution_count": null,
   "metadata": {
    "collapsed": true
   },
   "outputs": [],
   "source": [
    "import swat\n",
    "import pandas as pd"
   ]
  },
  {
   "cell_type": "markdown",
   "metadata": {},
   "source": [
    "# Server setup\n",
    "(requires user-specific parameters)"
   ]
  },
  {
   "cell_type": "code",
   "execution_count": null,
   "metadata": {
    "collapsed": true
   },
   "outputs": [],
   "source": [
    "s = swat.CAS(host, port, username, password)"
   ]
  },
  {
   "cell_type": "code",
   "execution_count": null,
   "metadata": {
    "collapsed": false
   },
   "outputs": [],
   "source": [
    "s.table.addCaslib(caslib=\"ba_200\", dataSource={\"srcType\":\"path\"}, path=\"/path/to/ba_u_10_15_200_0/csv/data\")\n",
    "s.table.addCaslib(caslib=\"ba_400\", dataSource={\"srcType\":\"path\"}, path=\"/path/to/ba_u_10_15_400_0/csv/data\")\n",
    "\n",
    "s.table.addCaslib(caslib=\"er_20\", dataSource={\"srcType\":\"path\"}, path=\"/path/to/er_u_10_15_20_0/csv/data\")\n",
    "s.table.addCaslib(caslib=\"er_30\", dataSource={\"srcType\":\"path\"}, path=\"/path/to/er_u_10_15_30_0/csv/data\")\n",
    "s.table.addCaslib(caslib=\"er_50\", dataSource={\"srcType\":\"path\"}, path=\"/path/to/er_u_10_15_50_0/csv/data\")"
   ]
  },
  {
   "cell_type": "code",
   "execution_count": null,
   "metadata": {
    "collapsed": false
   },
   "outputs": [],
   "source": [
    "s.loadActionSet('Network')"
   ]
  },
  {
   "cell_type": "code",
   "execution_count": null,
   "metadata": {
    "collapsed": true
   },
   "outputs": [],
   "source": [
    "NTHREADS = 8"
   ]
  },
  {
   "cell_type": "markdown",
   "metadata": {},
   "source": [
    "# Run queries"
   ]
  },
  {
   "cell_type": "code",
   "execution_count": null,
   "metadata": {
    "collapsed": true
   },
   "outputs": [],
   "source": [
    "def runQuery(nodesQuery, linksQuery):\n",
    "    nodesQuery = pd.DataFrame(nodesQuery, columns = ['node','label'])\n",
    "    linksQuery = pd.DataFrame(linksQuery, columns = ['from', 'to'])\n",
    "    \n",
    "    s.upload(nodesQuery, casout = {'name':'nodesQuery', 'replace':True})\n",
    "    s.upload(linksQuery, casout = {'name':'linksQuery', 'replace':True})\n",
    "    result = s.network.patternMatch( \n",
    "                    nThreads       = NTHREADS,\n",
    "                    multiLinks     = True,\n",
    "                    direction      = \"undirected\",\n",
    "                    links          = {\"name\":\"links\"},\n",
    "                    nodes          = {\"name\":\"nodes\"},\n",
    "                    linksQuery     = {\"name\":\"linksQuery\"},\n",
    "                    nodesQuery     = {\"name\":\"nodesQuery\"},\n",
    "                    nodesVar       = {\"vars\":(\"label\")},\n",
    "                    nodesQueryVar  = {\"vars\":(\"label\")})"
   ]
  },
  {
   "cell_type": "markdown",
   "metadata": {},
   "source": [
    "## ba_u_10_15_200"
   ]
  },
  {
   "cell_type": "code",
   "execution_count": null,
   "metadata": {
    "collapsed": false
   },
   "outputs": [],
   "source": [
    "s.sessionProp.setSessOpt(caslib=\"ba_200\")\n",
    "s.table.loadTable(path=\"ba_200_nodes.csv\", casout={\"name\":\"nodes\", \"replace\":True})\n",
    "s.table.loadTable(path=\"ba_200_links.csv\", casout={\"name\":\"links\", \"replace\":True})"
   ]
  },
  {
   "cell_type": "markdown",
   "metadata": {},
   "source": [
    "### q01"
   ]
  },
  {
   "cell_type": "code",
   "execution_count": null,
   "metadata": {
    "collapsed": false
   },
   "outputs": [],
   "source": [
    "nodesQuery = [['n0', 78],\n",
    "              ['n1', 122],\n",
    "              ['n2', 15],\n",
    "              ['n3', 183],\n",
    "              ['n4', 62]]\n",
    "linksQuery = [['n1', 'n2'],\n",
    "              ['n0', 'n3'],\n",
    "              ['n1', 'n3'],\n",
    "              ['n0', 'n4']]\n",
    "runQuery(nodesQuery, linksQuery)"
   ]
  },
  {
   "cell_type": "markdown",
   "metadata": {},
   "source": [
    "### q02"
   ]
  },
  {
   "cell_type": "code",
   "execution_count": null,
   "metadata": {
    "collapsed": false
   },
   "outputs": [],
   "source": [
    "nodesQuery = [['n0', 146],\n",
    "              ['n1', 12],\n",
    "              ['n2', 147],\n",
    "              ['n3', 9],\n",
    "              ['n4', 38]]\n",
    "linksQuery = [['n0', 'n3'],\n",
    "              ['n2', 'n3'],\n",
    "              ['n0', 'n4'],\n",
    "              ['n1', 'n4']]\n",
    "runQuery(nodesQuery, linksQuery)"
   ]
  },
  {
   "cell_type": "markdown",
   "metadata": {},
   "source": [
    "### q03"
   ]
  },
  {
   "cell_type": "code",
   "execution_count": null,
   "metadata": {
    "collapsed": false
   },
   "outputs": [],
   "source": [
    "nodesQuery = [['n0', 173],\n",
    "              ['n1', 155],\n",
    "              ['n2', 180],\n",
    "              ['n3', 117],\n",
    "              ['n4', 140]]\n",
    "linksQuery = [['n0', 'n1'],\n",
    "              ['n0', 'n2'],\n",
    "              ['n0', 'n3'],\n",
    "              ['n0', 'n4'],\n",
    "              ['n1', 'n2'],\n",
    "              ['n1', 'n4'],\n",
    "              ['n2', 'n4']]\n",
    "runQuery(nodesQuery, linksQuery)"
   ]
  },
  {
   "cell_type": "markdown",
   "metadata": {},
   "source": [
    "### q04"
   ]
  },
  {
   "cell_type": "code",
   "execution_count": null,
   "metadata": {
    "collapsed": false
   },
   "outputs": [],
   "source": [
    "nodesQuery = [['n0', 179],\n",
    "              ['n1', 180],\n",
    "              ['n2', 135],\n",
    "              ['n3', 163],\n",
    "              ['n4', 161],\n",
    "              ['n5', 104],\n",
    "              ['n6', 107],\n",
    "              ['n7', 103],\n",
    "              ['n8', 154],\n",
    "              ['n9', 178]]\n",
    "linksQuery = [['n2', 'n5'],\n",
    "              ['n1', 'n6'],\n",
    "              ['n3', 'n6'],\n",
    "              ['n3', 'n7'],\n",
    "              ['n5', 'n7'],\n",
    "              ['n0', 'n8'],\n",
    "              ['n1', 'n8'],\n",
    "              ['n4', 'n9'],\n",
    "              ['n2', 'n9']]\n",
    "runQuery(nodesQuery, linksQuery)"
   ]
  },
  {
   "cell_type": "markdown",
   "metadata": {},
   "source": [
    "### q05"
   ]
  },
  {
   "cell_type": "code",
   "execution_count": null,
   "metadata": {
    "collapsed": false
   },
   "outputs": [],
   "source": [
    "nodesQuery = [['n0', 82],\n",
    "              ['n1', 144],\n",
    "              ['n2', 118],\n",
    "              ['n3', 173],\n",
    "              ['n4', 46],\n",
    "              ['n5', 43],\n",
    "              ['n6', 174],\n",
    "              ['n7', 174],\n",
    "              ['n8', 141],\n",
    "              ['n9', 142]]\n",
    "linksQuery = [['n0', 'n1'],\n",
    "              ['n0', 'n2'],\n",
    "              ['n0', 'n3'],\n",
    "              ['n0', 'n4'],\n",
    "              ['n0', 'n5'],\n",
    "              ['n0', 'n6'],\n",
    "              ['n0', 'n7'],\n",
    "              ['n0', 'n8'],\n",
    "              ['n0', 'n9'],\n",
    "              ['n1', 'n2'],\n",
    "              ['n1', 'n3'],\n",
    "              ['n1', 'n4'],\n",
    "              ['n1', 'n5'],\n",
    "              ['n1', 'n6'],\n",
    "              ['n1', 'n7'],\n",
    "              ['n1', 'n8'],\n",
    "              ['n1', 'n9'],\n",
    "              ['n2', 'n3'],\n",
    "              ['n2', 'n4'],\n",
    "              ['n2', 'n5'],\n",
    "              ['n2', 'n6'],\n",
    "              ['n2', 'n7'],\n",
    "              ['n2', 'n8'],\n",
    "              ['n2', 'n9'],\n",
    "              ['n3', 'n4'],\n",
    "              ['n3', 'n5'],\n",
    "              ['n3', 'n6'],\n",
    "              ['n3', 'n7'],\n",
    "              ['n3', 'n8'],\n",
    "              ['n3', 'n9'],\n",
    "              ['n4', 'n5'],\n",
    "              ['n4', 'n6'],\n",
    "              ['n4', 'n7'],\n",
    "              ['n4', 'n8'],\n",
    "              ['n4', 'n9'],\n",
    "              ['n5', 'n6'],\n",
    "              ['n5', 'n7'],\n",
    "              ['n5', 'n8'],\n",
    "              ['n5', 'n9'],\n",
    "              ['n6', 'n7'],\n",
    "              ['n6', 'n8'],\n",
    "              ['n6', 'n9'],\n",
    "              ['n7', 'n8'],\n",
    "              ['n7', 'n9'],\n",
    "              ['n8', 'n9']]\n",
    "runQuery(nodesQuery, linksQuery)"
   ]
  },
  {
   "cell_type": "markdown",
   "metadata": {},
   "source": [
    "## ba_u_10_15_400"
   ]
  },
  {
   "cell_type": "code",
   "execution_count": null,
   "metadata": {
    "collapsed": false
   },
   "outputs": [],
   "source": [
    "s.sessionProp.setSessOpt(caslib=\"ba_400\")\n",
    "s.table.loadTable(path=\"ba_400_nodes.csv\", casout={\"name\":\"nodes\", \"replace\":True})\n",
    "s.table.loadTable(path=\"ba_400_links.csv\", casout={\"name\":\"links\", \"replace\":True})"
   ]
  },
  {
   "cell_type": "markdown",
   "metadata": {},
   "source": [
    "### q01"
   ]
  },
  {
   "cell_type": "code",
   "execution_count": null,
   "metadata": {
    "collapsed": false
   },
   "outputs": [],
   "source": [
    "nodesQuery = [['n0', 2],\n",
    "              ['n1', 211],\n",
    "              ['n2', 96],\n",
    "              ['n3', 43],\n",
    "              ['n4', 307]]\n",
    "linksQuery = [['n1', 'n2'],\n",
    "              ['n0', 'n3'],\n",
    "              ['n1', 'n3'],\n",
    "              ['n0', 'n4']]\n",
    "runQuery(nodesQuery, linksQuery)"
   ]
  },
  {
   "cell_type": "markdown",
   "metadata": {},
   "source": [
    "### q02"
   ]
  },
  {
   "cell_type": "code",
   "execution_count": null,
   "metadata": {
    "collapsed": false
   },
   "outputs": [],
   "source": [
    "nodesQuery = [['n0', 291],\n",
    "              ['n1', 24],\n",
    "              ['n2', 294],\n",
    "              ['n3', 18],\n",
    "              ['n4', 76]]\n",
    "linksQuery = [['n0', 'n3'],\n",
    "              ['n2', 'n3'],\n",
    "              ['n0', 'n4'],\n",
    "              ['n1', 'n4']]\n",
    "runQuery(nodesQuery, linksQuery)"
   ]
  },
  {
   "cell_type": "markdown",
   "metadata": {},
   "source": [
    "### q03"
   ]
  },
  {
   "cell_type": "code",
   "execution_count": null,
   "metadata": {
    "collapsed": false
   },
   "outputs": [],
   "source": [
    "nodesQuery = [['n0', 282],\n",
    "              ['n1', 331],\n",
    "              ['n2', 272],\n",
    "              ['n3', 184],\n",
    "              ['n4', 33],\n",
    "              ['n5', 196],\n",
    "              ['n6', 274]]\n",
    "linksQuery = [['n0', 'n1'],\n",
    "              ['n0', 'n2'],\n",
    "              ['n0', 'n3'],\n",
    "              ['n0', 'n4'],\n",
    "              ['n0', 'n6'],\n",
    "              ['n1', 'n3'],\n",
    "              ['n1', 'n4'],\n",
    "              ['n1', 'n5'],\n",
    "              ['n2', 'n4'],\n",
    "              ['n2', 'n6'],\n",
    "              ['n3', 'n4']]\n",
    "runQuery(nodesQuery, linksQuery)"
   ]
  },
  {
   "cell_type": "markdown",
   "metadata": {},
   "source": [
    "### q04"
   ]
  },
  {
   "cell_type": "code",
   "execution_count": null,
   "metadata": {
    "collapsed": false
   },
   "outputs": [],
   "source": [
    "NodesQuery = [['n0', 2],\n",
    "              ['n1', 272],\n",
    "              ['n2', 211],\n",
    "              ['n3', 62],\n",
    "              ['n4', 323],\n",
    "              ['n5', 96],\n",
    "              ['n6', 43],\n",
    "              ['n7', 212],\n",
    "              ['n8', 255],\n",
    "              ['n9', 307]]\n",
    "LinksQuery = [['n1', 'n4'],\n",
    "              ['n4', 'n5'],\n",
    "              ['n2', 'n5'],\n",
    "              ['n0', 'n6'],\n",
    "              ['n2', 'n6'],\n",
    "              ['n1', 'n7'],\n",
    "              ['n3', 'n7'],\n",
    "              ['n3', 'n8'],\n",
    "              ['n0', 'n9']]\n",
    "runQuery(nodesQuery, linksQuery)"
   ]
  },
  {
   "cell_type": "markdown",
   "metadata": {},
   "source": [
    "### q05"
   ]
  },
  {
   "cell_type": "code",
   "execution_count": null,
   "metadata": {
    "collapsed": false
   },
   "outputs": [],
   "source": [
    "nodesQuery = [['n0', 163],\n",
    "              ['n1', 287],\n",
    "              ['n2', 235],\n",
    "              ['n3', 345],\n",
    "              ['n4', 91],\n",
    "              ['n5', 85],\n",
    "              ['n6', 347],\n",
    "              ['n7', 347],\n",
    "              ['n8', 282],\n",
    "              ['n9', 283]]\n",
    "linksQuery = [['n0', 'n1'],\n",
    "              ['n0', 'n2'],\n",
    "              ['n0', 'n3'],\n",
    "              ['n0', 'n4'],\n",
    "              ['n0', 'n5'],\n",
    "              ['n0', 'n6'],\n",
    "              ['n0', 'n7'],\n",
    "              ['n0', 'n8'],\n",
    "              ['n0', 'n9'],\n",
    "              ['n1', 'n2'],\n",
    "              ['n1', 'n3'],\n",
    "              ['n1', 'n4'],\n",
    "              ['n1', 'n5'],\n",
    "              ['n1', 'n6'],\n",
    "              ['n1', 'n7'],\n",
    "              ['n1', 'n8'],\n",
    "              ['n1', 'n9'],\n",
    "              ['n2', 'n3'],\n",
    "              ['n2', 'n4'],\n",
    "              ['n2', 'n5'],\n",
    "              ['n2', 'n6'],\n",
    "              ['n2', 'n7'],\n",
    "              ['n2', 'n8'],\n",
    "              ['n2', 'n9'],\n",
    "              ['n3', 'n4'],\n",
    "              ['n3', 'n5'],\n",
    "              ['n3', 'n6'],\n",
    "              ['n3', 'n7'],\n",
    "              ['n3', 'n8'],\n",
    "              ['n3', 'n9'],\n",
    "              ['n4', 'n5'],\n",
    "              ['n4', 'n6'],\n",
    "              ['n4', 'n7'],\n",
    "              ['n4', 'n8'],\n",
    "              ['n4', 'n9'],\n",
    "              ['n5', 'n6'],\n",
    "              ['n5', 'n7'],\n",
    "              ['n5', 'n8'],\n",
    "              ['n5', 'n9'],\n",
    "              ['n6', 'n7'],\n",
    "              ['n6', 'n8'],\n",
    "              ['n6', 'n9'],\n",
    "              ['n7', 'n8'],\n",
    "              ['n7', 'n9'],\n",
    "              ['n8', 'n9']]\n",
    "runQuery(nodesQuery, linksQuery)"
   ]
  },
  {
   "cell_type": "markdown",
   "metadata": {},
   "source": [
    "### q06"
   ]
  },
  {
   "cell_type": "code",
   "execution_count": null,
   "metadata": {
    "collapsed": false
   },
   "outputs": [],
   "source": [
    "nodesQuery = [['n0', 206],\n",
    "              ['n1', 68],\n",
    "              ['n2', 295],\n",
    "              ['n3', 18],\n",
    "              ['n4', 236],\n",
    "              ['n5', 134],\n",
    "              ['n6', 58],\n",
    "              ['n7', 45],\n",
    "              ['n8', 87],\n",
    "              ['n9', 101],\n",
    "              ['n10', 309],\n",
    "              ['n11', 4],\n",
    "              ['n12', 177],\n",
    "              ['n13', 376],\n",
    "              ['n14', 59],\n",
    "              ['n15', 133],\n",
    "              ['n16', 59],\n",
    "              ['n17', 102],\n",
    "              ['n18', 33],\n",
    "              ['n19', 155]]\n",
    "linksQuery = [['n5', 'n8'],\n",
    "              ['n2', 'n8'],\n",
    "              ['n6', 'n9'],\n",
    "              ['n7', 'n11'],\n",
    "              ['n2', 'n11'],\n",
    "              ['n3', 'n12'],\n",
    "              ['n5', 'n12'],\n",
    "              ['n6', 'n13'],\n",
    "              ['n4', 'n13'],\n",
    "              ['n0', 'n14'],\n",
    "              ['n3', 'n14'],\n",
    "              ['n4', 'n15'],\n",
    "              ['n15', 'n16'],\n",
    "              ['n7', 'n16'],\n",
    "              ['n3', 'n17'],\n",
    "              ['n0', 'n18'],\n",
    "              ['n10', 'n18'],\n",
    "              ['n1', 'n19'],\n",
    "              ['n10', 'n19']]\n",
    "runQuery(nodesQuery, linksQuery)"
   ]
  },
  {
   "cell_type": "markdown",
   "metadata": {},
   "source": [
    "## er_u_10_15_20"
   ]
  },
  {
   "cell_type": "code",
   "execution_count": null,
   "metadata": {
    "collapsed": false
   },
   "outputs": [],
   "source": [
    "s.sessionProp.setSessOpt(caslib=\"er_20\")\n",
    "s.table.loadTable(path=\"er_20_nodes.csv\", casout={\"name\":\"nodes\", \"replace\":True})\n",
    "s.table.loadTable(path=\"er_20_links.csv\", casout={\"name\":\"links\", \"replace\":True})"
   ]
  },
  {
   "cell_type": "markdown",
   "metadata": {},
   "source": [
    "### q01"
   ]
  },
  {
   "cell_type": "code",
   "execution_count": null,
   "metadata": {
    "collapsed": false
   },
   "outputs": [],
   "source": [
    "nodesQuery = [['n0', 15],\n",
    "              ['n1', 13],\n",
    "              ['n2', 10],\n",
    "              ['n3', 19],\n",
    "              ['n4', 6]]\n",
    "linksQuery = [['n0', 'n2'],\n",
    "              ['n1', 'n2'],\n",
    "              ['n1', 'n3'],\n",
    "              ['n2', 'n4']]\n",
    "runQuery(nodesQuery, linksQuery)"
   ]
  },
  {
   "cell_type": "markdown",
   "metadata": {},
   "source": [
    "### q02"
   ]
  },
  {
   "cell_type": "code",
   "execution_count": null,
   "metadata": {
    "collapsed": false
   },
   "outputs": [],
   "source": [
    "nodesQuery = [['n0', 15],\n",
    "              ['n1', 13],\n",
    "              ['n2', 5],\n",
    "              ['n3', 1],\n",
    "              ['n4', 13],\n",
    "              ['n5', 10],\n",
    "              ['n6', 19],\n",
    "              ['n7', 6],\n",
    "              ['n8', 7],\n",
    "              ['n9', 15]]\n",
    "linksQuery = [['n2', 'n3'],\n",
    "              ['n2', 'n4'],\n",
    "              ['n0', 'n5'],\n",
    "              ['n1', 'n5'],\n",
    "              ['n1', 'n6'],\n",
    "              ['n2', 'n6'],\n",
    "              ['n5', 'n7'],\n",
    "              ['n4', 'n8'],\n",
    "              ['n8', 'n9']]\n",
    "runQuery(nodesQuery, linksQuery)"
   ]
  },
  {
   "cell_type": "markdown",
   "metadata": {},
   "source": [
    "## er_u_10_15_30"
   ]
  },
  {
   "cell_type": "code",
   "execution_count": null,
   "metadata": {
    "collapsed": false
   },
   "outputs": [],
   "source": [
    "s.sessionProp.setSessOpt(caslib=\"er_30\")\n",
    "s.table.loadTable(path=\"er_30_nodes.csv\", casout={\"name\":\"nodes\", \"replace\":True})\n",
    "s.table.loadTable(path=\"er_30_links.csv\", casout={\"name\":\"links\", \"replace\":True})"
   ]
  },
  {
   "cell_type": "markdown",
   "metadata": {},
   "source": [
    "### q01"
   ]
  },
  {
   "cell_type": "code",
   "execution_count": null,
   "metadata": {
    "collapsed": false
   },
   "outputs": [],
   "source": [
    "nodesQuery = [['n0', 22],\n",
    "              ['n1', 19],\n",
    "              ['n2', 15],\n",
    "              ['n3', 28],\n",
    "              ['n4', 9]]\n",
    "linksQuery = [['n0', 'n2'],\n",
    "              ['n1', 'n2'],\n",
    "              ['n1', 'n3'],\n",
    "              ['n2', 'n4']]\n",
    "runQuery(nodesQuery, linksQuery)"
   ]
  },
  {
   "cell_type": "markdown",
   "metadata": {},
   "source": [
    "### q02"
   ]
  },
  {
   "cell_type": "code",
   "execution_count": null,
   "metadata": {
    "collapsed": false
   },
   "outputs": [],
   "source": [
    "nodesQuery = [['n0', 22],\n",
    "              ['n1', 19],\n",
    "              ['n2', 8],\n",
    "              ['n3', 1],\n",
    "              ['n4', 20],\n",
    "              ['n5', 15],\n",
    "              ['n6', 28],\n",
    "              ['n7', 9],\n",
    "              ['n8', 11],\n",
    "              ['n9', 23]]\n",
    "linksQuery = [['n2', 'n3'],\n",
    "              ['n2', 'n4'],\n",
    "              ['n0', 'n5'],\n",
    "              ['n1', 'n5'],\n",
    "              ['n1', 'n6'],\n",
    "              ['n2', 'n6'],\n",
    "              ['n5', 'n7'],\n",
    "              ['n4', 'n8'],\n",
    "              ['n8', 'n9']]\n",
    "runQuery(nodesQuery, linksQuery)"
   ]
  },
  {
   "cell_type": "markdown",
   "metadata": {},
   "source": [
    "### q03"
   ]
  },
  {
   "cell_type": "code",
   "execution_count": null,
   "metadata": {
    "collapsed": false
   },
   "outputs": [],
   "source": [
    "nodesQuery = [['n0', 8],\n",
    "              ['n1', 22],\n",
    "              ['n2', 12],\n",
    "              ['n3', 6],\n",
    "              ['n4', 12],\n",
    "              ['n5', 16],\n",
    "              ['n6', 29],\n",
    "              ['n7', 21],\n",
    "              ['n8', 12],\n",
    "              ['n9', 22],\n",
    "              ['n10', 4],\n",
    "              ['n11', 30],\n",
    "              ['n12', 15],\n",
    "              ['n13', 29],\n",
    "              ['n14', 21],\n",
    "              ['n15', 30],\n",
    "              ['n16', 18],\n",
    "              ['n17', 17],\n",
    "              ['n18', 17],\n",
    "              ['n19', 18]]\n",
    "linksQuery = [['n2', 'n3'],\n",
    "              ['n0', 'n4'],\n",
    "              ['n2', 'n6'],\n",
    "              ['n0', 'n7'],\n",
    "              ['n5', 'n7'],\n",
    "              ['n9', 'n10'],\n",
    "              ['n8', 'n11'],\n",
    "              ['n3', 'n12'],\n",
    "              ['n5', 'n13'],\n",
    "              ['n6', 'n13'],\n",
    "              ['n11', 'n14'],\n",
    "              ['n1', 'n15'],\n",
    "              ['n10', 'n16'],\n",
    "              ['n12', 'n16'],\n",
    "              ['n1', 'n17'],\n",
    "              ['n9', 'n17'],\n",
    "              ['n3', 'n18'],\n",
    "              ['n8', 'n18'],\n",
    "              ['n3', 'n19']]\n",
    "runQuery(nodesQuery, linksQuery)"
   ]
  },
  {
   "cell_type": "markdown",
   "metadata": {},
   "source": [
    "## er_u_10_15_50"
   ]
  },
  {
   "cell_type": "code",
   "execution_count": null,
   "metadata": {
    "collapsed": false
   },
   "outputs": [],
   "source": [
    "s.sessionProp.setSessOpt(caslib=\"er_50\")\n",
    "s.table.loadTable(path=\"er_50_nodes.csv\", casout={\"name\":\"nodes\", \"replace\":True})\n",
    "s.table.loadTable(path=\"er_50_links.csv\", casout={\"name\":\"links\", \"replace\":True})"
   ]
  },
  {
   "cell_type": "markdown",
   "metadata": {},
   "source": [
    "### q01"
   ]
  },
  {
   "cell_type": "code",
   "execution_count": null,
   "metadata": {
    "collapsed": false
   },
   "outputs": [],
   "source": [
    "nodesQuery = [['n0', 36],\n",
    "              ['n1', 32],\n",
    "              ['n2', 24],\n",
    "              ['n3', 47],\n",
    "              ['n4', 15]]\n",
    "linksQuery = [['n0', 'n2'],\n",
    "              ['n1', 'n2'],\n",
    "              ['n1', 'n3'],\n",
    "              ['n2', 'n4']]\n",
    "runQuery(nodesQuery, linksQuery)"
   ]
  },
  {
   "cell_type": "markdown",
   "metadata": {},
   "source": [
    "### q02"
   ]
  },
  {
   "cell_type": "code",
   "execution_count": null,
   "metadata": {
    "collapsed": false
   },
   "outputs": [],
   "source": [
    "nodesQuery = [['n0', 36],\n",
    "              ['n1', 32],\n",
    "              ['n2', 13],\n",
    "              ['n3', 1 ],\n",
    "              ['n4', 32],\n",
    "              ['n5', 24],\n",
    "              ['n6', 47],\n",
    "              ['n7', 15],\n",
    "              ['n8', 18],\n",
    "              ['n9', 38]]\n",
    "linksQuery = [['n2', 'n3'],\n",
    "              ['n2', 'n4'],\n",
    "              ['n0', 'n5'],\n",
    "              ['n1', 'n5'],\n",
    "              ['n1', 'n6'],\n",
    "              ['n2', 'n6'],\n",
    "              ['n5', 'n7'],\n",
    "              ['n4', 'n8'],\n",
    "              ['n8', 'n9']]\n",
    "runQuery(nodesQuery, linksQuery)"
   ]
  },
  {
   "cell_type": "markdown",
   "metadata": {},
   "source": [
    "### q03"
   ]
  },
  {
   "cell_type": "code",
   "execution_count": null,
   "metadata": {
    "collapsed": false
   },
   "outputs": [],
   "source": [
    "nodesQuery = [['n0', 14],\n",
    "              ['n1', 36],\n",
    "              ['n2', 19],\n",
    "              ['n3', 10],\n",
    "              ['n4', 19],\n",
    "              ['n5', 26],\n",
    "              ['n6', 48],\n",
    "              ['n7', 34],\n",
    "              ['n8', 20],\n",
    "              ['n9', 36],\n",
    "              ['n10', 6],\n",
    "              ['n11', 50],\n",
    "              ['n12', 25],\n",
    "              ['n13', 48],\n",
    "              ['n14', 35],\n",
    "              ['n15', 50],\n",
    "              ['n16', 29],\n",
    "              ['n17', 27],\n",
    "              ['n18', 27],\n",
    "              ['n19', 29]]\n",
    "linksQuery = [['n2', 'n3'],\n",
    "              ['n0', 'n4'],\n",
    "              ['n2', 'n6'],\n",
    "              ['n0', 'n7'],\n",
    "              ['n5', 'n7'],\n",
    "              ['n9', 'n10'],\n",
    "              ['n8', 'n11'],\n",
    "              ['n3', 'n12'],\n",
    "              ['n5', 'n13'],\n",
    "              ['n6', 'n13'],\n",
    "              ['n11', 'n14'],\n",
    "              ['n1', 'n15'],\n",
    "              ['n10', 'n16'],\n",
    "              ['n12', 'n16'],\n",
    "              ['n1', 'n17'],\n",
    "              ['n9', 'n17'],\n",
    "              ['n3', 'n18'],\n",
    "              ['n8', 'n18'],\n",
    "              ['n3', 'n19']]\n",
    "runQuery(nodesQuery, linksQuery)"
   ]
  }
 ],
 "metadata": {
  "kernelspec": {
   "display_name": "Python 3",
   "language": "python",
   "name": "python3"
  },
  "language_info": {
   "codemirror_mode": {
    "name": "ipython",
    "version": 3
   },
   "file_extension": ".py",
   "mimetype": "text/x-python",
   "name": "python",
   "nbconvert_exporter": "python",
   "pygments_lexer": "ipython3",
   "version": "3.6.0"
  }
 },
 "nbformat": 4,
 "nbformat_minor": 2
}
