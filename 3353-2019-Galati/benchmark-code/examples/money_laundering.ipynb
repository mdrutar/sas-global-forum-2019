{
 "cells": [
  {
   "cell_type": "markdown",
   "metadata": {},
   "source": [
    "# Pattern Matching for Anti-Money Laundering"
   ]
  },
  {
   "cell_type": "code",
   "execution_count": null,
   "metadata": {
    "collapsed": true
   },
   "outputs": [],
   "source": [
    "import pandas as pd\n",
    "import swat"
   ]
  },
  {
   "cell_type": "code",
   "execution_count": null,
   "metadata": {},
   "outputs": [],
   "source": [
    "s = swat.CAS(host, port, username, password)"
   ]
  },
  {
   "cell_type": "code",
   "execution_count": null,
   "metadata": {},
   "outputs": [],
   "source": [
    "s.loadActionSet('Network')\n",
    "s.loadActionSet('fcmpact')\n",
    "s.sessionProp.setSessOpt(cmplib = \"casuser.myRoutines\")"
   ]
  },
  {
   "cell_type": "markdown",
   "metadata": {},
   "source": [
    "## Input data"
   ]
  },
  {
   "cell_type": "code",
   "execution_count": null,
   "metadata": {
    "collapsed": true
   },
   "outputs": [],
   "source": [
    "nodes = [['A', 2015], ['B', 2014], ['C', 2016], ['D', 2016], ['E', 2016], ['F', 2017]]\n",
    "links = [['A', 'B', '02OCT2017'],\n",
    "             ['A', 'C', '03OCT2017'],\n",
    "             ['B', 'C', '03OCT2017'],\n",
    "             ['B', 'D', '04OCT2017'],\n",
    "             ['C', 'A', '02OCT2017'],\n",
    "             ['C', 'D', '04OCT2017'],\n",
    "             ['D', 'A', '01NOV2017'],\n",
    "             ['D', 'E', '01NOV2017'],\n",
    "             ['D', 'F', '17NOV2017'],\n",
    "             ['E', 'B', '04OCT2017'],\n",
    "             ['F', 'B', '13FEB2018'],\n",
    "             ['F', 'E', '13FEB2018']]"
   ]
  },
  {
   "cell_type": "code",
   "execution_count": null,
   "metadata": {},
   "outputs": [],
   "source": [
    "nodes = pd.DataFrame(nodes, columns = ['node', 'year'])\n",
    "links = pd.DataFrame(links, columns = ['from', 'to', 'time'])\n",
    "s.upload(nodes, casout = {'name':'nodes', 'replace':True})\n",
    "s.upload(links, casout = {'name':'links', 'replace':True},\n",
    "            importOptions = {\"vars\": [{\"name\":\"from\", \"type\": \"VARCHAR\"},\n",
    "                                      {\"name\":\"to\"  , \"type\": \"VARCHAR\"},\n",
    "                                      {\"name\":\"time\", \"type\": \"Date\", \"informat\": \"date9.\", \"format\": \"date9.\"}]})\n"
   ]
  },
  {
   "cell_type": "markdown",
   "metadata": {},
   "source": [
    "## Query"
   ]
  },
  {
   "cell_type": "code",
   "execution_count": null,
   "metadata": {},
   "outputs": [],
   "source": [
    "nodesQuery = [1, 2, 3]\n",
    "linksQuery = [[1, 2], [2, 3], [3, 1]]\n",
    "nodesQuery = pd.DataFrame(nodesQuery, columns = ['node'])\n",
    "linksQuery = pd.DataFrame(linksQuery, columns = ['from', 'to'])"
   ]
  },
  {
   "cell_type": "code",
   "execution_count": null,
   "metadata": {},
   "outputs": [],
   "source": [
    "s.upload(nodesQuery, casout = {'name':'nodesQuery', 'replace':True})\n",
    "s.upload(linksQuery, casout = {'name':'linksQuery', 'replace':True})"
   ]
  },
  {
   "cell_type": "code",
   "execution_count": null,
   "metadata": {},
   "outputs": [],
   "source": [
    "s.addRoutines(\n",
    "    routineCode = '''\n",
    "    function myNodePairFilter(nodeQ[*], year[*]); \n",
    "        if (nodeQ[1] = 2 and nodeQ[2] = 3) then return (year[1] = year[2]); \n",
    "        else return (1); \n",
    "    endsub;\n",
    "    function myLinkPairFilter(fromQ[*], toQ[*], time[*]);\n",
    "        if (toQ[1] = 1) then return (1);\n",
    "        else if (toQ[1] = fromQ[2]) then return (time[1] < time[2]); \n",
    "             else return (1);\n",
    "    endsub;         \n",
    "    ''',\n",
    "    package   = \"myPackage\",\n",
    "    saveTable = True,\n",
    "    funcTable = {\"name\":\"myRoutines\", \"replace\":True}\n",
    ")  "
   ]
  },
  {
   "cell_type": "code",
   "execution_count": null,
   "metadata": {},
   "outputs": [],
   "source": [
    "s.network.patternMatch(\n",
    "    direction      = \"directed\",\n",
    "    nodes          = {\"name\":\"nodes\"},\n",
    "    links          = {\"name\":\"links\"},\n",
    "    nodesQuery     = {\"name\":\"nodesQuery\"},\n",
    "    linksQuery     = {\"name\":\"linksQuery\"},\n",
    "    nodesVar       = {\"vars\":\"year\"},\n",
    "    linksVar       = {\"vars\":\"time\"},\n",
    "    nodePairFilter = \"myNodePairFilter\",\n",
    "    linkPairFilter = \"myLinkPairFilter\",\n",
    "    outMatchNodes  = {\"name\":\"OutMatchNodes\", \"replace\":True},\n",
    "    outMatchLinks  = {\"name\":\"OutMatchLinks\", \"replace\":True} \n",
    ")"
   ]
  },
  {
   "cell_type": "code",
   "execution_count": null,
   "metadata": {},
   "outputs": [],
   "source": [
    "print(s.CASTable(\"OutMatchNodes\").to_frame())\n",
    "print(s.CASTable(\"OutMatchLinks\").to_frame())"
   ]
  }
 ],
 "metadata": {
  "kernelspec": {
   "display_name": "Python 3",
   "language": "python",
   "name": "python3"
  },
  "language_info": {
   "codemirror_mode": {
    "name": "ipython",
    "version": 3
   },
   "file_extension": ".py",
   "mimetype": "text/x-python",
   "name": "python",
   "nbconvert_exporter": "python",
   "pygments_lexer": "ipython3",
   "version": "3.7.3"
  }
 },
 "nbformat": 4,
 "nbformat_minor": 2
}
