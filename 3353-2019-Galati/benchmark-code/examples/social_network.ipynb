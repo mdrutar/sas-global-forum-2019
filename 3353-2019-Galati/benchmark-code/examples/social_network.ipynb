{
 "cells": [
  {
   "cell_type": "markdown",
   "metadata": {},
   "source": [
    "# Pattern Matching in a Social Network"
   ]
  },
  {
   "cell_type": "code",
   "execution_count": null,
   "metadata": {
    "collapsed": true
   },
   "outputs": [],
   "source": [
    "import swat\n",
    "import pandas as pd"
   ]
  },
  {
   "cell_type": "code",
   "execution_count": null,
   "metadata": {
    "collapsed": true
   },
   "outputs": [],
   "source": [
    "s = swat.CAS(host, port, username, password)"
   ]
  },
  {
   "cell_type": "code",
   "execution_count": null,
   "metadata": {
    "collapsed": false
   },
   "outputs": [],
   "source": [
    "s.loadActionSet('Network')"
   ]
  },
  {
   "cell_type": "markdown",
   "metadata": {},
   "source": [
    "## Input data"
   ]
  },
  {
   "cell_type": "code",
   "execution_count": null,
   "metadata": {
    "collapsed": false
   },
   "outputs": [],
   "source": [
    "nodes = [['Matt', 'Person'],\n",
    "         ['Rob', 'Person'],\n",
    "         ['Chuck', 'Person'],\n",
    "         ['Stephen', 'Person'],\n",
    "         ['Manoj', 'Person'],\n",
    "         ['Bryan', 'Person'],\n",
    "         ['Jack', 'Person'],\n",
    "         ['Raleigh', 'City'],\n",
    "         ['Philadelphia', 'City'],\n",
    "         ['Charlotte', 'City'],\n",
    "         ['The Pit Authentic', 'Restaurant', 'BBQ'],\n",
    "         ['Red Hot Blue', 'Restaurant', 'BBQ'],\n",
    "         ['JimmyJs', 'Restaurant', 'BBQ'],\n",
    "         ['Second Empire', 'Restaurant', 'American'],\n",
    "         ['Cafe Luna', 'Restaurant', 'Italian'],\n",
    "         ['Vivo Rist', 'Restaurant', 'Italian'],\n",
    "         ['Moonlight', 'Restaurant', 'Itlian'],\n",
    "         ['Dumplings', 'Restaurant', 'Chinese']]\n",
    "\n",
    "nodes = pd.DataFrame(nodes, columns = ['node', 'type', 'subtype'])\n",
    "nodes['label'] = nodes['node']"
   ]
  },
  {
   "cell_type": "code",
   "execution_count": null,
   "metadata": {
    "collapsed": false
   },
   "outputs": [],
   "source": [
    "links = [['Matt', 'Rob', 'friends'],\n",
    "         ['Rob', 'Matt', 'friends'],\n",
    "         ['Matt', 'Chuck', 'friends'],\n",
    "         ['Chuck', 'Matt', 'friends'],\n",
    "         ['Chuck', 'Rob', 'friends'],\n",
    "         ['Rob', 'Chuck', 'friends'],\n",
    "         ['Jack', 'Rob', 'friends'],\n",
    "         ['Rob', 'Jack', 'friends'],\n",
    "         ['Matt', 'Stephen', 'friends'],\n",
    "         ['Stephen', 'Matt', 'friends'],\n",
    "         ['Matt', 'Manoj', 'friends'],\n",
    "         ['Manoj', 'Matt', 'friends'],\n",
    "         ['Matt', 'Bryan', 'friends'],\n",
    "         ['Bryan', 'Matt', 'friends'],\n",
    "         ['Matt', 'Jack', 'friends'],\n",
    "         ['Jack', 'Matt', 'friends'],\n",
    "         ['Matt', 'Philadelphia', 'lives in'],\n",
    "         ['Stephen', 'Philadelphia', 'lives in'],\n",
    "         ['Stephen', 'JimmyJs', 'likes', 7],\n",
    "         ['Stephen', 'Cafe Luna', 'likes', 8],\n",
    "         ['Rob', 'Raleigh', 'lives in'],\n",
    "         ['Chuck', 'Raleigh', 'lives in'],\n",
    "         ['Manoj', 'Raleigh', 'lives in'],\n",
    "         ['Jack', 'Raleigh', 'lives in'],\n",
    "         ['Bryan', 'Charlotte', 'lives in'],\n",
    "         ['Rob', 'The Pit Authentic', 'likes', 7],\n",
    "         ['Jack', 'Red Hot Blue', 'likes', 9],\n",
    "         ['Chuck', 'The Pit Authentic', 'likes', 8],\n",
    "         ['Chuck', 'Cafe Luna', 'likes', 6],\n",
    "         ['Chuck', 'Second Empire', 'likes', 7],\n",
    "         ['Jack', 'Vivo Rist ', 'likes', 8],\n",
    "         ['Manoj', 'Dumplings', 'likes', 6],\n",
    "         ['Bryan', 'Red Hot Blue', 'likes', 9],\n",
    "         ['Bryan', 'Vivo Rist', 'likes', 6],\n",
    "         ['Rob', 'Moonlight', 'likes', 10]]\n",
    "links = pd.DataFrame(links, columns = ['from', 'to', 'connection', 'rating'])"
   ]
  },
  {
   "cell_type": "code",
   "execution_count": null,
   "metadata": {
    "collapsed": false
   },
   "outputs": [],
   "source": [
    "s.upload(nodes, casout = {'name':'nodes', 'replace':True})\n",
    "s.upload(links, casout = {'name':'links', 'replace':True})"
   ]
  },
  {
   "cell_type": "markdown",
   "metadata": {},
   "source": [
    "## Query: \"friends of Matt who like barbecue restaurants\""
   ]
  },
  {
   "cell_type": "code",
   "execution_count": null,
   "metadata": {
    "collapsed": true
   },
   "outputs": [],
   "source": [
    "nodesQuery = [['Matt', 'Matt', 'Person', ''],\n",
    "              ['X', '', 'Person', ''],\n",
    "              ['BBQ', '', 'Restaurant', 'BBQ']]\n",
    "linksQuery = [['Matt', 'X', 'friends'],\n",
    "              ['X', 'Matt', 'friends'],\n",
    "              ['X', 'BBQ', 'likes']]\n",
    "nodesQuery = pd.DataFrame(nodesQuery, columns = ['node', 'label', 'type', 'subtype'])\n",
    "linksQuery = pd.DataFrame(linksQuery, columns = ['from', 'to', 'connection'])"
   ]
  },
  {
   "cell_type": "code",
   "execution_count": null,
   "metadata": {
    "collapsed": false
   },
   "outputs": [],
   "source": [
    "s.upload(nodesQuery, casout = {'name':'nodesQuery', 'replace':True})\n",
    "s.upload(linksQuery, casout = {'name':'linksQuery', 'replace':True})"
   ]
  },
  {
   "cell_type": "code",
   "execution_count": null,
   "metadata": {
    "collapsed": false
   },
   "outputs": [],
   "source": [
    "s.network.patternMatch(\n",
    "    direction      = \"directed\",\n",
    "    links          = {\"name\":\"links\"},\n",
    "    nodes          = {\"name\":\"nodes\"},\n",
    "    linksQuery     = {\"name\":\"linksQuery\"},\n",
    "    nodesQuery     = {\"name\":\"nodesQuery\"},\n",
    "    nodesVar       = {\"vars\":(\"label\", \"type\", \"subtype\")},\n",
    "    linksVar       = {\"vars\":\"connection\"},\n",
    "    nodesQueryVar  = {\"vars\":(\"label\", \"type\", \"subtype\")},\n",
    "    linksQueryVar  = {\"vars\":\"connection\"},\n",
    "    outNodes       = {\"name\":\"OutNodes\", \"replace\":True},\n",
    "    outMatchNodes  = {\"name\":\"OutMatchNodes\", \"replace\":True},\n",
    "    outMatchLinks  = {\"name\":\"OutMatchLinks\", \"replace\":True})"
   ]
  },
  {
   "cell_type": "code",
   "execution_count": null,
   "metadata": {
    "collapsed": false
   },
   "outputs": [],
   "source": [
    "print(s.CASTable(\"OutMatchNodes\").to_frame())\n",
    "print(s.CASTable(\"OutMatchLinks\").to_frame())"
   ]
  },
  {
   "cell_type": "markdown",
   "metadata": {},
   "source": [
    "## Query: \"friends of Matt who like barbecue restaurants and live in Raleigh\""
   ]
  },
  {
   "cell_type": "code",
   "execution_count": null,
   "metadata": {
    "collapsed": false
   },
   "outputs": [],
   "source": [
    "nodesQuery = [['Matt', 'Matt', 'Person'],\n",
    "              ['X', '', 'Person'],\n",
    "              ['Raleigh', 'Raleigh', 'City'],\n",
    "              ['BBQ', '', 'Restaurant', 'BBQ']]\n",
    "linksQuery = [['Matt', 'X', 'friends'],\n",
    "              ['X', 'Matt', 'friends'],\n",
    "              ['X', 'Raleigh', 'lives in'],\n",
    "              ['X', 'BBQ', 'likes']]\n",
    "nodesQuery = pd.DataFrame(nodesQuery, columns = ['node', 'label', 'type', 'subtype'])\n",
    "linksQuery = pd.DataFrame(linksQuery, columns = ['from', 'to', 'connection'])"
   ]
  },
  {
   "cell_type": "code",
   "execution_count": null,
   "metadata": {
    "collapsed": false
   },
   "outputs": [],
   "source": [
    "s.upload(nodesQuery, casout = {'name':'nodesQuery', 'replace':True})\n",
    "s.upload(linksQuery, casout = {'name':'linksQuery', 'replace':True})"
   ]
  },
  {
   "cell_type": "code",
   "execution_count": null,
   "metadata": {
    "collapsed": false
   },
   "outputs": [],
   "source": [
    "s.network.patternMatch(\n",
    "    direction      = \"directed\",\n",
    "    links          = {\"name\":\"links\"},\n",
    "    nodes          = {\"name\":\"nodes\"},\n",
    "    linksQuery     = {\"name\":\"linksQuery\"},\n",
    "    nodesQuery     = {\"name\":\"nodesQuery\"},\n",
    "    nodesVar       = {\"vars\":(\"label\", \"type\", \"subtype\")},\n",
    "    linksVar       = {\"vars\":\"connection\"},\n",
    "    nodesQueryVar  = {\"vars\":(\"label\", \"type\", \"subtype\")},\n",
    "    linksQueryVar  = {\"vars\":\"connection\"},\n",
    "    outNodes       = {\"name\":\"OutNodes\", \"replace\":True},\n",
    "    outMatchNodes  = {\"name\":\"OutMatchNodes\", \"replace\":True},\n",
    "    outMatchLinks  = {\"name\":\"OutMatchLinks\", \"replace\":True}\n",
    ")"
   ]
  },
  {
   "cell_type": "code",
   "execution_count": null,
   "metadata": {
    "collapsed": false
   },
   "outputs": [],
   "source": [
    "print(s.CASTable(\"OutMatchNodes\").to_frame())\n",
    "print(s.CASTable(\"OutMatchLinks\").to_frame())"
   ]
  },
  {
   "cell_type": "markdown",
   "metadata": {},
   "source": [
    "## Query: \"friends of Matt who like barbecue restaurants, give the restaurant a rating of 9 or higher, and live in Raleigh\""
   ]
  },
  {
   "cell_type": "code",
   "execution_count": null,
   "metadata": {
    "collapsed": false
   },
   "outputs": [],
   "source": [
    "s.sessionProp.setSessOpt(cmplib = \"casuser.myRoutines\")\n",
    "s.loadActionSet('fcmpact')"
   ]
  },
  {
   "cell_type": "code",
   "execution_count": null,
   "metadata": {
    "collapsed": false
   },
   "outputs": [],
   "source": [
    "s.addRoutines(\n",
    "    routineCode = '''\n",
    "    function myLinkFilter(connectionQ $, rating); \n",
    "        if (connectionQ = 'likes') then return (rating >= 9); \n",
    "        else return (1); \n",
    "    endsub;''',\n",
    "    package   = \"myPackage\",\n",
    "    saveTable = True,\n",
    "    funcTable = {\"name\": \"myRoutines\", \"replace\": True}\n",
    ")    "
   ]
  },
  {
   "cell_type": "code",
   "execution_count": null,
   "metadata": {
    "collapsed": false
   },
   "outputs": [],
   "source": [
    "s.network.patternMatch(\n",
    "    direction      = \"directed\",\n",
    "    links          = {\"name\":\"links\"},\n",
    "    nodes          = {\"name\":\"nodes\"},\n",
    "    linksQuery     = {\"name\":\"linksQuery\"},\n",
    "    nodesQuery     = {\"name\":\"nodesQuery\"},\n",
    "    nodesVar       = {\"vars\":(\"label\", \"type\", \"subtype\")},\n",
    "    linksVar       = {\"vars\":(\"connection\", \"rating\")},\n",
    "    nodesQueryVar  = {\"vars\":(\"label\", \"type\", \"subtype\")},\n",
    "    linksQueryVar  = {\"vars\":\"connection\"},\n",
    "    outNodes       = {\"name\":\"OutNodes\", \"replace\":True},\n",
    "    outMatchNodes  = {\"name\":\"OutMatchNodes\", \"replace\":True},\n",
    "    outMatchLinks  = {\"name\":\"OutMatchLinks\", \"replace\":True},  \n",
    "    linkFilter     = \"myLinkFilter\"\n",
    ")"
   ]
  },
  {
   "cell_type": "code",
   "execution_count": null,
   "metadata": {
    "collapsed": false
   },
   "outputs": [],
   "source": [
    "print(s.CASTable(\"OutMatchNodes\").to_frame())\n",
    "print(s.CASTable(\"OutMatchLinks\").to_frame())"
   ]
  },
  {
   "cell_type": "markdown",
   "metadata": {},
   "source": [
    "## Query: \"a pair of friends of Matt who like the same barbecue restaurant, live in Raleigh, and are friends of each other\""
   ]
  },
  {
   "cell_type": "code",
   "execution_count": null,
   "metadata": {
    "collapsed": false
   },
   "outputs": [],
   "source": [
    "nodesQuery = [['Matt', 'Matt', 'Person'],\n",
    "              ['X', '', 'Person'],\n",
    "              ['Y', '', 'Person'],\n",
    "              ['Raleigh', 'Raleigh', 'City'],\n",
    "              ['BBQ', '', 'Restaurant', 'BBQ']]\n",
    "linksQuery = [['Matt', 'X', 'friends'],\n",
    "              ['X', 'Matt', 'friends'],\n",
    "              ['Matt', 'Y', 'friends'],\n",
    "              ['Y', 'Matt', 'friends'],\n",
    "              ['X', 'Raleigh', 'lives in'],\n",
    "              ['Y', 'Raleigh', 'lives in'],\n",
    "              ['X', 'BBQ', 'likes'],\n",
    "              ['Y', 'BBQ', 'likes'],\n",
    "              ['X', 'Y', 'friends'],\n",
    "              ['Y', 'X', 'friends']]\n",
    "nodesQuery = pd.DataFrame(nodesQuery, columns = ['node', 'label', 'type', 'subtype'])\n",
    "linksQuery = pd.DataFrame(linksQuery, columns = ['from', 'to', 'connection'])"
   ]
  },
  {
   "cell_type": "code",
   "execution_count": null,
   "metadata": {
    "collapsed": false
   },
   "outputs": [],
   "source": [
    "s.upload(nodesQuery, casout = {'name':'cas_nodesQuery', 'replace':True})\n",
    "s.upload(linksQuery, casout = {'name':'cas_linksQuery', 'replace':True})"
   ]
  },
  {
   "cell_type": "code",
   "execution_count": null,
   "metadata": {
    "collapsed": false
   },
   "outputs": [],
   "source": [
    "s.network.patternMatch(\n",
    "    direction      = \"directed\",\n",
    "    links          = {\"name\":\"links\"},\n",
    "    nodes          = {\"name\":\"nodes\"},\n",
    "    linksQuery     = {\"name\":\"linksQuery\"},\n",
    "    nodesQuery     = {\"name\":\"nodesQuery\"},\n",
    "    nodesVar       = {\"vars\":(\"label\", \"type\", \"subtype\")},\n",
    "    linksVar       = {\"vars\":\"connection\"},\n",
    "    nodesQueryVar  = {\"vars\":(\"label\", \"type\", \"subtype\")},\n",
    "    linksQueryVar  = {\"vars\":\"connection\"},\n",
    "    outNodes       = {\"name\":\"OutNodes\", \"replace\":True},\n",
    "    outMatchNodes  = {\"name\":\"OutMatchNodes\", \"replace\":True},\n",
    "    outMatchLinks  = {\"name\":\"OutMatchLinks\", \"replace\":True}\n",
    ")"
   ]
  },
  {
   "cell_type": "code",
   "execution_count": null,
   "metadata": {
    "collapsed": false
   },
   "outputs": [],
   "source": [
    "print(s.CASTable(\"OutMatchNodes\").to_frame())\n",
    "print(s.CASTable(\"OutMatchLinks\").to_frame())"
   ]
  }
 ],
 "metadata": {
  "kernelspec": {
   "display_name": "Python 3",
   "language": "python",
   "name": "python3"
  },
  "language_info": {
   "codemirror_mode": {
    "name": "ipython",
    "version": 3
   },
   "file_extension": ".py",
   "mimetype": "text/x-python",
   "name": "python",
   "nbconvert_exporter": "python",
   "pygments_lexer": "ipython3",
   "version": "3.6.0"
  }
 },
 "nbformat": 4,
 "nbformat_minor": 2
}
